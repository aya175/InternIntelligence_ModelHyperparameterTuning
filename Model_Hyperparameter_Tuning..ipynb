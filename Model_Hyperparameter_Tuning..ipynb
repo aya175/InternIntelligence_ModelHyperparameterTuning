{
 "cells": [
  {
   "cell_type": "code",
   "execution_count": 41,
   "metadata": {
    "id": "h8X9anGQhXg5"
   },
   "outputs": [],
   "source": [
    "import pandas as pd\n",
    "import numpy as np\n",
    "import matplotlib.pyplot as plt\n",
    "import seaborn as sns\n",
    "from sklearn.model_selection import train_test_split, GridSearchCV, cross_val_score\n",
    "from sklearn.ensemble import RandomForestClassifier\n",
    "from sklearn.metrics import accuracy_score, classification_report\n",
    "import plotly.graph_objects as go\n",
    "from sklearn.preprocessing import StandardScaler, OneHotEncoder\n",
    "from sklearn.compose import ColumnTransformer\n",
    "from sklearn.pipeline import Pipeline\n",
    "from sklearn.impute import SimpleImputer"
   ]
  },
  {
   "cell_type": "code",
   "execution_count": 2,
   "metadata": {
    "id": "oVZwXocuj31n"
   },
   "outputs": [
    {
     "name": "stdout",
     "output_type": "stream",
     "text": [
      "<class 'pandas.core.frame.DataFrame'>\n",
      "RangeIndex: 9841 entries, 0 to 9840\n",
      "Data columns (total 13 columns):\n",
      " #   Column                                Non-Null Count  Dtype \n",
      "---  ------                                --------------  ----- \n",
      " 0   STATE/UT                              9841 non-null   object\n",
      " 1   DISTRICT                              9841 non-null   object\n",
      " 2   Year                                  9841 non-null   int64 \n",
      " 3   Murder                                9841 non-null   int64 \n",
      " 4   Assault on women                      9841 non-null   int64 \n",
      " 5   Kidnapping and Abduction              9841 non-null   int64 \n",
      " 6   Dacoity                               9841 non-null   int64 \n",
      " 7   Robbery                               9841 non-null   int64 \n",
      " 8   Arson                                 9841 non-null   int64 \n",
      " 9   Hurt                                  9841 non-null   int64 \n",
      " 10  Prevention of atrocities (POA) Act    9841 non-null   int64 \n",
      " 11  Protection of Civil Rights (PCR) Act  9841 non-null   int64 \n",
      " 12  Other Crimes Against SCs              9841 non-null   int64 \n",
      "dtypes: int64(11), object(2)\n",
      "memory usage: 999.6+ KB\n",
      "None\n",
      "         STATE/UT       DISTRICT  Year  Murder  Assault on women  \\\n",
      "0  ANDHRA PRADESH       ADILABAD  2001       0                 1   \n",
      "1  ANDHRA PRADESH      ANANTAPUR  2001       0                 4   \n",
      "2  ANDHRA PRADESH       CHITTOOR  2001       3                 3   \n",
      "3  ANDHRA PRADESH       CUDDAPAH  2001       0                 3   \n",
      "4  ANDHRA PRADESH  EAST GODAVARI  2001       1                 3   \n",
      "\n",
      "   Kidnapping and Abduction  Dacoity  Robbery  Arson  Hurt  \\\n",
      "0                         4        0        0      0     3   \n",
      "1                         0        0        0      0    49   \n",
      "2                         0        0        0      0    38   \n",
      "3                         0        0        0      0    20   \n",
      "4                         0        0        0      0     3   \n",
      "\n",
      "   Prevention of atrocities (POA) Act  Protection of Civil Rights (PCR) Act  \\\n",
      "0                                   0                                    15   \n",
      "1                                  21                                     0   \n",
      "2                                  36                                     0   \n",
      "3                                  52                                     0   \n",
      "4                                  12                                    63   \n",
      "\n",
      "   Other Crimes Against SCs  \n",
      "0                        32  \n",
      "1                        53  \n",
      "2                        34  \n",
      "3                        25  \n",
      "4                         7  \n"
     ]
    }
   ],
   "source": [
    "dataset_path = \"crime_district.csv\"\n",
    "df = pd.read_csv(dataset_path)\n",
    "print(df.info())\n",
    "print(df.head())\n"
   ]
  },
  {
   "cell_type": "code",
   "execution_count": 3,
   "metadata": {
    "colab": {
     "base_uri": "https://localhost:8080/"
    },
    "id": "BisKJeBEkDJH",
    "outputId": "101a5c49-2c41-4f28-9ec6-6eb7af22ba6f"
   },
   "outputs": [],
   "source": [
    "def preprocess_data(df):\n",
    "    # Handle missing values\n",
    "    df.dropna(inplace=True)\n",
    "    \n",
    "    # Encode categorical variables\n",
    "    df = pd.get_dummies(df, columns=['STATE/UT', 'DISTRICT'], drop_first=True)\n",
    "    \n",
    "    return df\n",
    "\n",
    "df = preprocess_data(df)"
   ]
  },
  {
   "cell_type": "code",
   "execution_count": 4,
   "metadata": {
    "id": "kJZTbReTkJGz"
   },
   "outputs": [],
   "source": [
    "X = df.drop(columns=['Dacoity'])  \n",
    "y = df['Dacoity']  \n",
    "\n",
    "X_train, X_test, y_train, y_test = train_test_split(X, y, test_size=0.2, random_state=42)\n"
   ]
  },
  {
   "cell_type": "code",
   "execution_count": 5,
   "metadata": {
    "id": "E2vzj2lMkJZy"
   },
   "outputs": [],
   "source": [
    "numeric_features = X.select_dtypes(include=['int64', 'float64']).columns\n",
    "categorical_features = X.select_dtypes(include=['object']).columns\n"
   ]
  },
  {
   "cell_type": "code",
   "execution_count": 6,
   "metadata": {
    "id": "S02xFvsjkJqt"
   },
   "outputs": [],
   "source": [
    "numeric_transformer = Pipeline(steps=[\n",
    "    ('imputer', SimpleImputer(strategy='median')),\n",
    "    ('scaler', StandardScaler())\n",
    "])"
   ]
  },
  {
   "cell_type": "code",
   "execution_count": 7,
   "metadata": {
    "id": "JFYgaN5tkJ7F"
   },
   "outputs": [],
   "source": [
    "if len(categorical_features) > 0:\n",
    "    categorical_transformer = Pipeline(steps=[\n",
    "        ('imputer', SimpleImputer(strategy='constant', fill_value='missing')),\n",
    "        ('onehot', OneHotEncoder(handle_unknown='ignore'))\n",
    "    ])\n",
    "else:\n",
    "    categorical_transformer = 'passthrough'\n",
    "\n",
    "# Combine preprocessing steps\n",
    "preprocessor = ColumnTransformer(\n",
    "    transformers=[\n",
    "        ('num', numeric_transformer, numeric_features),\n",
    "        ('cat', categorical_transformer, categorical_features)\n",
    "    ])\n",
    "\n"
   ]
  },
  {
   "cell_type": "code",
   "execution_count": 8,
   "metadata": {
    "id": "juy7dkzRkeQX"
   },
   "outputs": [],
   "source": [
    "preprocessor = ColumnTransformer(\n",
    "    transformers=[\n",
    "        ('num', numeric_transformer, numeric_features),\n",
    "        ('cat', categorical_transformer, categorical_features)\n",
    "    ])"
   ]
  },
  {
   "cell_type": "code",
   "execution_count": 9,
   "metadata": {
    "id": "T4PdTLl2keYK"
   },
   "outputs": [
    {
     "name": "stdout",
     "output_type": "stream",
     "text": [
      "Train Accuracy: 0.9996189024390244\n",
      "Test Accuracy: 0.9558151345860844\n",
      "Classification Report:\n",
      "               precision    recall  f1-score   support\n",
      "\n",
      "           0       0.96      1.00      0.98      1882\n",
      "           1       0.50      0.02      0.03        59\n",
      "           2       0.33      0.07      0.11        15\n",
      "           3       0.00      0.00      0.00         6\n",
      "           4       0.00      0.00      0.00         0\n",
      "           5       0.00      0.00      0.00         1\n",
      "           6       0.00      0.00      0.00         0\n",
      "           7       0.50      0.50      0.50         2\n",
      "           8       0.00      0.00      0.00         1\n",
      "           9       0.00      0.00      0.00         1\n",
      "          11       0.00      0.00      0.00         0\n",
      "          16       1.00      1.00      1.00         1\n",
      "          20       0.00      0.00      0.00         1\n",
      "\n",
      "    accuracy                           0.96      1969\n",
      "   macro avg       0.25      0.20      0.20      1969\n",
      "weighted avg       0.94      0.96      0.94      1969\n",
      "\n"
     ]
    },
    {
     "name": "stderr",
     "output_type": "stream",
     "text": [
      "/opt/conda/envs/anaconda-panel-2023.05-py310/lib/python3.11/site-packages/sklearn/metrics/_classification.py:1469: UndefinedMetricWarning: Precision and F-score are ill-defined and being set to 0.0 in labels with no predicted samples. Use `zero_division` parameter to control this behavior.\n",
      "  _warn_prf(average, modifier, msg_start, len(result))\n",
      "/opt/conda/envs/anaconda-panel-2023.05-py310/lib/python3.11/site-packages/sklearn/metrics/_classification.py:1469: UndefinedMetricWarning: Recall and F-score are ill-defined and being set to 0.0 in labels with no true samples. Use `zero_division` parameter to control this behavior.\n",
      "  _warn_prf(average, modifier, msg_start, len(result))\n",
      "/opt/conda/envs/anaconda-panel-2023.05-py310/lib/python3.11/site-packages/sklearn/metrics/_classification.py:1469: UndefinedMetricWarning: Precision and F-score are ill-defined and being set to 0.0 in labels with no predicted samples. Use `zero_division` parameter to control this behavior.\n",
      "  _warn_prf(average, modifier, msg_start, len(result))\n",
      "/opt/conda/envs/anaconda-panel-2023.05-py310/lib/python3.11/site-packages/sklearn/metrics/_classification.py:1469: UndefinedMetricWarning: Recall and F-score are ill-defined and being set to 0.0 in labels with no true samples. Use `zero_division` parameter to control this behavior.\n",
      "  _warn_prf(average, modifier, msg_start, len(result))\n",
      "/opt/conda/envs/anaconda-panel-2023.05-py310/lib/python3.11/site-packages/sklearn/metrics/_classification.py:1469: UndefinedMetricWarning: Precision and F-score are ill-defined and being set to 0.0 in labels with no predicted samples. Use `zero_division` parameter to control this behavior.\n",
      "  _warn_prf(average, modifier, msg_start, len(result))\n",
      "/opt/conda/envs/anaconda-panel-2023.05-py310/lib/python3.11/site-packages/sklearn/metrics/_classification.py:1469: UndefinedMetricWarning: Recall and F-score are ill-defined and being set to 0.0 in labels with no true samples. Use `zero_division` parameter to control this behavior.\n",
      "  _warn_prf(average, modifier, msg_start, len(result))\n"
     ]
    }
   ],
   "source": [
    "rf = RandomForestClassifier(max_features=5, n_estimators=100, random_state=42)\n",
    "pipeline = Pipeline(steps=[('preprocessor', preprocessor), ('classifier', rf)])\n",
    "\n",
    "pipeline.fit(X_train, y_train)\n",
    "train_accuracy = pipeline.score(X_train, y_train)\n",
    "y_pred = pipeline.predict(X_test)\n",
    "test_accuracy = accuracy_score(y_test, y_pred)\n",
    "\n",
    "print(\"Train Accuracy:\", train_accuracy)\n",
    "print(\"Test Accuracy:\", test_accuracy)\n",
    "print(\"Classification Report:\\n\", classification_report(y_test, y_pred))"
   ]
  },
  {
   "cell_type": "code",
   "execution_count": 10,
   "metadata": {
    "id": "7oGuwl6xkegP"
   },
   "outputs": [
    {
     "name": "stdout",
     "output_type": "stream",
     "text": [
      "Fitting 5 folds for each of 100 candidates, totalling 500 fits\n"
     ]
    },
    {
     "name": "stderr",
     "output_type": "stream",
     "text": [
      "/opt/conda/envs/anaconda-panel-2023.05-py310/lib/python3.11/site-packages/sklearn/model_selection/_split.py:725: UserWarning: The least populated class in y has only 1 members, which is less than n_splits=5.\n",
      "  warnings.warn(\n"
     ]
    },
    {
     "name": "stdout",
     "output_type": "stream",
     "text": [
      "[CV] END classifier__max_features=1, classifier__n_estimators=10; total time=   0.1s\n",
      "[CV] END classifier__max_features=1, classifier__n_estimators=20; total time=   0.2s\n",
      "[CV] END classifier__max_features=1, classifier__n_estimators=30; total time=   0.2s\n",
      "[CV] END classifier__max_features=1, classifier__n_estimators=40; total time=   0.4s\n",
      "[CV] END classifier__max_features=1, classifier__n_estimators=40; total time=   0.4s\n",
      "[CV] END classifier__max_features=1, classifier__n_estimators=50; total time=   0.4s\n",
      "[CV] END classifier__max_features=1, classifier__n_estimators=60; total time=   0.5s\n",
      "[CV] END classifier__max_features=1, classifier__n_estimators=70; total time=   0.7s\n",
      "[CV] END classifier__max_features=1, classifier__n_estimators=80; total time=   0.6s\n",
      "[CV] END classifier__max_features=1, classifier__n_estimators=90; total time=   0.7s\n",
      "[CV] END classifier__max_features=1, classifier__n_estimators=90; total time=   0.8s\n",
      "[CV] END classifier__max_features=1, classifier__n_estimators=100; total time=   0.9s\n",
      "[CV] END classifier__max_features=1, classifier__n_estimators=110; total time=   0.9s\n",
      "[CV] END classifier__max_features=1, classifier__n_estimators=120; total time=   1.4s\n",
      "[CV] END classifier__max_features=1, classifier__n_estimators=130; total time=   1.1s\n",
      "[CV] END classifier__max_features=1, classifier__n_estimators=130; total time=   1.0s\n",
      "[CV] END classifier__max_features=1, classifier__n_estimators=140; total time=   1.0s\n",
      "[CV] END classifier__max_features=1, classifier__n_estimators=150; total time=   1.4s\n",
      "[CV] END classifier__max_features=1, classifier__n_estimators=160; total time=   1.2s\n",
      "[CV] END classifier__max_features=1, classifier__n_estimators=170; total time=   1.4s\n",
      "[CV] END classifier__max_features=1, classifier__n_estimators=170; total time=   1.2s\n",
      "[CV] END classifier__max_features=1, classifier__n_estimators=180; total time=   1.3s\n",
      "[CV] END classifier__max_features=1, classifier__n_estimators=190; total time=   1.5s\n",
      "[CV] END classifier__max_features=1, classifier__n_estimators=200; total time=   1.5s\n",
      "[CV] END classifier__max_features=2, classifier__n_estimators=10; total time=   0.2s\n",
      "[CV] END classifier__max_features=2, classifier__n_estimators=10; total time=   0.2s\n",
      "[CV] END classifier__max_features=2, classifier__n_estimators=10; total time=   0.2s\n",
      "[CV] END classifier__max_features=2, classifier__n_estimators=20; total time=   0.4s\n",
      "[CV] END classifier__max_features=2, classifier__n_estimators=20; total time=   0.2s\n",
      "[CV] END classifier__max_features=2, classifier__n_estimators=30; total time=   0.5s\n",
      "[CV] END classifier__max_features=2, classifier__n_estimators=40; total time=   0.5s\n",
      "[CV] END classifier__max_features=2, classifier__n_estimators=40; total time=   0.5s\n",
      "[CV] END classifier__max_features=2, classifier__n_estimators=50; total time=   0.7s\n",
      "[CV] END classifier__max_features=2, classifier__n_estimators=60; total time=   1.0s\n",
      "[CV] END classifier__max_features=2, classifier__n_estimators=70; total time=   1.2s\n",
      "[CV] END classifier__max_features=2, classifier__n_estimators=80; total time=   0.9s\n",
      "[CV] END classifier__max_features=2, classifier__n_estimators=90; total time=   1.1s\n",
      "[CV] END classifier__max_features=2, classifier__n_estimators=100; total time=   0.8s\n",
      "[CV] END classifier__max_features=2, classifier__n_estimators=100; total time=   1.1s\n",
      "[CV] END classifier__max_features=2, classifier__n_estimators=110; total time=   1.1s\n",
      "[CV] END classifier__max_features=2, classifier__n_estimators=120; total time=   1.6s\n",
      "[CV] END classifier__max_features=2, classifier__n_estimators=130; total time=   1.5s\n",
      "[CV] END classifier__max_features=2, classifier__n_estimators=130; total time=   1.1s\n",
      "[CV] END classifier__max_features=2, classifier__n_estimators=140; total time=   1.3s\n",
      "[CV] END classifier__max_features=2, classifier__n_estimators=150; total time=   1.3s\n",
      "[CV] END classifier__max_features=2, classifier__n_estimators=160; total time=   1.5s\n",
      "[CV] END classifier__max_features=2, classifier__n_estimators=170; total time=   1.6s\n",
      "[CV] END classifier__max_features=2, classifier__n_estimators=180; total time=   1.5s\n",
      "[CV] END classifier__max_features=2, classifier__n_estimators=180; total time=   1.8s\n",
      "[CV] END classifier__max_features=2, classifier__n_estimators=190; total time=   4.2s\n",
      "[CV] END classifier__max_features=2, classifier__n_estimators=200; total time=   5.0s\n",
      "[CV] END classifier__max_features=3, classifier__n_estimators=10; total time=   0.3s\n",
      "[CV] END classifier__max_features=3, classifier__n_estimators=20; total time=   0.4s\n",
      "[CV] END classifier__max_features=3, classifier__n_estimators=20; total time=   0.5s\n",
      "[CV] END classifier__max_features=3, classifier__n_estimators=30; total time=   0.4s\n",
      "[CV] END classifier__max_features=3, classifier__n_estimators=30; total time=   0.4s\n",
      "[CV] END classifier__max_features=3, classifier__n_estimators=40; total time=   0.6s\n",
      "[CV] END classifier__max_features=3, classifier__n_estimators=50; total time=   0.6s\n",
      "[CV] END classifier__max_features=3, classifier__n_estimators=60; total time=   0.7s\n",
      "[CV] END classifier__max_features=3, classifier__n_estimators=60; total time=   0.9s\n",
      "[CV] END classifier__max_features=3, classifier__n_estimators=70; total time=   0.7s\n",
      "[CV] END classifier__max_features=3, classifier__n_estimators=80; total time=   0.8s\n",
      "[CV] END classifier__max_features=3, classifier__n_estimators=90; total time=   1.4s\n",
      "[CV] END classifier__max_features=3, classifier__n_estimators=100; total time=   1.1s\n",
      "[CV] END classifier__max_features=3, classifier__n_estimators=100; total time=   1.1s\n",
      "[CV] END classifier__max_features=3, classifier__n_estimators=110; total time=   3.1s\n",
      "[CV] END classifier__max_features=3, classifier__n_estimators=120; total time=   2.8s\n",
      "[CV] END classifier__max_features=3, classifier__n_estimators=130; total time=   2.5s\n",
      "[CV] END classifier__max_features=3, classifier__n_estimators=140; total time=   3.1s\n",
      "[CV] END classifier__max_features=3, classifier__n_estimators=140; total time=   2.1s\n",
      "[CV] END classifier__max_features=3, classifier__n_estimators=150; total time=   1.7s\n",
      "[CV] END classifier__max_features=3, classifier__n_estimators=160; total time=   1.8s\n",
      "[CV] END classifier__max_features=3, classifier__n_estimators=170; total time=   1.9s\n",
      "[CV] END classifier__max_features=3, classifier__n_estimators=180; total time=   1.6s\n",
      "[CV] END classifier__max_features=3, classifier__n_estimators=180; total time=   1.9s\n",
      "[CV] END classifier__max_features=3, classifier__n_estimators=190; total time=   1.7s\n",
      "[CV] END classifier__max_features=3, classifier__n_estimators=200; total time=   2.0s\n",
      "[CV] END classifier__max_features=4, classifier__n_estimators=10; total time=   0.2s\n",
      "[CV] END classifier__max_features=4, classifier__n_estimators=10; total time=   0.2s\n",
      "[CV] END classifier__max_features=4, classifier__n_estimators=20; total time=   0.2s\n",
      "[CV] END classifier__max_features=4, classifier__n_estimators=20; total time=   0.2s\n",
      "[CV] END classifier__max_features=4, classifier__n_estimators=30; total time=   0.4s\n",
      "[CV] END classifier__max_features=4, classifier__n_estimators=40; total time=   0.8s\n",
      "[CV] END classifier__max_features=4, classifier__n_estimators=40; total time=   0.7s\n",
      "[CV] END classifier__max_features=4, classifier__n_estimators=50; total time=   0.6s\n",
      "[CV] END classifier__max_features=4, classifier__n_estimators=60; total time=   0.8s\n",
      "[CV] END classifier__max_features=4, classifier__n_estimators=70; total time=   0.9s\n",
      "[CV] END classifier__max_features=4, classifier__n_estimators=80; total time=   1.0s\n",
      "[CV] END classifier__max_features=4, classifier__n_estimators=80; total time=   0.9s\n",
      "[CV] END classifier__max_features=4, classifier__n_estimators=90; total time=   1.1s\n",
      "[CV] END classifier__max_features=4, classifier__n_estimators=100; total time=   1.1s\n",
      "[CV] END classifier__max_features=4, classifier__n_estimators=110; total time=   1.7s\n",
      "[CV] END classifier__max_features=4, classifier__n_estimators=120; total time=   2.2s\n",
      "[CV] END classifier__max_features=4, classifier__n_estimators=130; total time=   1.9s\n",
      "[CV] END classifier__max_features=4, classifier__n_estimators=130; total time=   1.3s\n",
      "[CV] END classifier__max_features=1, classifier__n_estimators=10; total time=   0.2s\n",
      "[CV] END classifier__max_features=1, classifier__n_estimators=10; total time=   0.3s\n",
      "[CV] END classifier__max_features=1, classifier__n_estimators=20; total time=   0.2s\n",
      "[CV] END classifier__max_features=1, classifier__n_estimators=30; total time=   0.2s\n",
      "[CV] END classifier__max_features=1, classifier__n_estimators=30; total time=   0.3s\n",
      "[CV] END classifier__max_features=1, classifier__n_estimators=40; total time=   0.4s\n",
      "[CV] END classifier__max_features=1, classifier__n_estimators=50; total time=   0.5s\n",
      "[CV] END classifier__max_features=1, classifier__n_estimators=60; total time=   0.4s\n",
      "[CV] END classifier__max_features=1, classifier__n_estimators=60; total time=   0.6s\n",
      "[CV] END classifier__max_features=1, classifier__n_estimators=70; total time=   0.6s\n",
      "[CV] END classifier__max_features=1, classifier__n_estimators=80; total time=   0.6s\n",
      "[CV] END classifier__max_features=1, classifier__n_estimators=90; total time=   0.8s\n",
      "[CV] END classifier__max_features=1, classifier__n_estimators=100; total time=   0.8s\n",
      "[CV] END classifier__max_features=1, classifier__n_estimators=100; total time=   0.9s\n",
      "[CV] END classifier__max_features=1, classifier__n_estimators=110; total time=   1.0s\n",
      "[CV] END classifier__max_features=1, classifier__n_estimators=120; total time=   1.5s\n",
      "[CV] END classifier__max_features=1, classifier__n_estimators=130; total time=   1.2s\n",
      "[CV] END classifier__max_features=1, classifier__n_estimators=140; total time=   1.0s\n",
      "[CV] END classifier__max_features=1, classifier__n_estimators=150; total time=   1.3s\n",
      "[CV] END classifier__max_features=1, classifier__n_estimators=150; total time=   1.3s\n",
      "[CV] END classifier__max_features=1, classifier__n_estimators=160; total time=   1.2s\n",
      "[CV] END classifier__max_features=1, classifier__n_estimators=170; total time=   1.4s\n",
      "[CV] END classifier__max_features=1, classifier__n_estimators=180; total time=   1.3s\n",
      "[CV] END classifier__max_features=1, classifier__n_estimators=190; total time=   1.6s\n",
      "[CV] END classifier__max_features=1, classifier__n_estimators=190; total time=   1.4s\n",
      "[CV] END classifier__max_features=1, classifier__n_estimators=200; total time=   2.3s\n",
      "[CV] END classifier__max_features=2, classifier__n_estimators=20; total time=   0.3s\n",
      "[CV] END classifier__max_features=2, classifier__n_estimators=30; total time=   0.6s\n",
      "[CV] END classifier__max_features=2, classifier__n_estimators=40; total time=   0.5s\n",
      "[CV] END classifier__max_features=2, classifier__n_estimators=50; total time=   0.7s\n",
      "[CV] END classifier__max_features=2, classifier__n_estimators=60; total time=   0.6s\n",
      "[CV] END classifier__max_features=2, classifier__n_estimators=70; total time=   0.7s\n",
      "[CV] END classifier__max_features=2, classifier__n_estimators=70; total time=   1.5s\n",
      "[CV] END classifier__max_features=2, classifier__n_estimators=80; total time=   0.9s\n",
      "[CV] END classifier__max_features=2, classifier__n_estimators=90; total time=   1.0s\n",
      "[CV] END classifier__max_features=2, classifier__n_estimators=100; total time=   1.1s\n",
      "[CV] END classifier__max_features=2, classifier__n_estimators=110; total time=   1.1s\n",
      "[CV] END classifier__max_features=2, classifier__n_estimators=110; total time=   1.3s\n",
      "[CV] END classifier__max_features=2, classifier__n_estimators=120; total time=   1.5s\n",
      "[CV] END classifier__max_features=2, classifier__n_estimators=130; total time=   1.3s\n",
      "[CV] END classifier__max_features=2, classifier__n_estimators=140; total time=   1.1s\n",
      "[CV] END classifier__max_features=2, classifier__n_estimators=150; total time=   1.4s\n",
      "[CV] END classifier__max_features=2, classifier__n_estimators=150; total time=   1.2s\n",
      "[CV] END classifier__max_features=2, classifier__n_estimators=160; total time=   1.3s\n",
      "[CV] END classifier__max_features=2, classifier__n_estimators=170; total time=   1.4s\n",
      "[CV] END classifier__max_features=2, classifier__n_estimators=170; total time=   1.5s\n",
      "[CV] END classifier__max_features=2, classifier__n_estimators=180; total time=   1.7s\n",
      "[CV] END classifier__max_features=2, classifier__n_estimators=190; total time=   3.5s\n",
      "[CV] END classifier__max_features=2, classifier__n_estimators=200; total time=   5.5s\n",
      "[CV] END classifier__max_features=3, classifier__n_estimators=10; total time=   0.2s\n",
      "[CV] END classifier__max_features=3, classifier__n_estimators=10; total time=   0.3s\n",
      "[CV] END classifier__max_features=3, classifier__n_estimators=10; total time=   0.2s\n",
      "[CV] END classifier__max_features=3, classifier__n_estimators=20; total time=   0.6s\n",
      "[CV] END classifier__max_features=3, classifier__n_estimators=30; total time=   0.4s\n",
      "[CV] END classifier__max_features=3, classifier__n_estimators=40; total time=   0.7s\n",
      "[CV] END classifier__max_features=3, classifier__n_estimators=50; total time=   0.7s\n",
      "[CV] END classifier__max_features=3, classifier__n_estimators=60; total time=   0.9s\n",
      "[CV] END classifier__max_features=3, classifier__n_estimators=70; total time=   0.8s\n",
      "[CV] END classifier__max_features=3, classifier__n_estimators=70; total time=   0.7s\n",
      "[CV] END classifier__max_features=3, classifier__n_estimators=80; total time=   0.9s\n",
      "[CV] END classifier__max_features=3, classifier__n_estimators=90; total time=   1.5s\n",
      "[CV] END classifier__max_features=3, classifier__n_estimators=100; total time=   1.1s\n",
      "[CV] END classifier__max_features=3, classifier__n_estimators=110; total time=   1.9s\n",
      "[CV] END classifier__max_features=3, classifier__n_estimators=110; total time=   2.8s\n",
      "[CV] END classifier__max_features=3, classifier__n_estimators=120; total time=   2.6s\n",
      "[CV] END classifier__max_features=3, classifier__n_estimators=130; total time=   2.9s\n",
      "[CV] END classifier__max_features=3, classifier__n_estimators=140; total time=   2.3s\n",
      "[CV] END classifier__max_features=3, classifier__n_estimators=150; total time=   2.1s\n",
      "[CV] END classifier__max_features=3, classifier__n_estimators=160; total time=   1.6s\n",
      "[CV] END classifier__max_features=3, classifier__n_estimators=160; total time=   1.7s\n",
      "[CV] END classifier__max_features=3, classifier__n_estimators=170; total time=   1.9s\n",
      "[CV] END classifier__max_features=3, classifier__n_estimators=180; total time=   1.7s\n",
      "[CV] END classifier__max_features=3, classifier__n_estimators=190; total time=   1.9s\n",
      "[CV] END classifier__max_features=3, classifier__n_estimators=200; total time=   2.1s\n",
      "[CV] END classifier__max_features=4, classifier__n_estimators=10; total time=   0.2s\n",
      "[CV] END classifier__max_features=4, classifier__n_estimators=10; total time=   0.2s\n",
      "[CV] END classifier__max_features=4, classifier__n_estimators=10; total time=   0.2s\n",
      "[CV] END classifier__max_features=4, classifier__n_estimators=20; total time=   0.3s\n",
      "[CV] END classifier__max_features=4, classifier__n_estimators=20; total time=   0.3s\n",
      "[CV] END classifier__max_features=4, classifier__n_estimators=30; total time=   0.5s\n",
      "[CV] END classifier__max_features=4, classifier__n_estimators=40; total time=   1.0s\n",
      "[CV] END classifier__max_features=4, classifier__n_estimators=50; total time=   0.6s\n",
      "[CV] END classifier__max_features=4, classifier__n_estimators=60; total time=   0.7s\n",
      "[CV] END classifier__max_features=4, classifier__n_estimators=60; total time=   0.7s\n",
      "[CV] END classifier__max_features=4, classifier__n_estimators=70; total time=   0.9s\n",
      "[CV] END classifier__max_features=4, classifier__n_estimators=80; total time=   0.9s\n",
      "[CV] END classifier__max_features=4, classifier__n_estimators=90; total time=   1.0s\n",
      "[CV] END classifier__max_features=4, classifier__n_estimators=100; total time=   1.1s\n",
      "[CV] END classifier__max_features=4, classifier__n_estimators=100; total time=   1.5s\n",
      "[CV] END classifier__max_features=4, classifier__n_estimators=110; total time=   1.8s\n",
      "[CV] END classifier__max_features=4, classifier__n_estimators=120; total time=   1.7s\n",
      "[CV] END classifier__max_features=4, classifier__n_estimators=130; total time=   1.8s\n",
      "[CV] END classifier__max_features=4, classifier__n_estimators=140; total time=   1.5s\n",
      "[CV] END classifier__max_features=4, classifier__n_estimators=140; total time=   1.6s\n",
      "[CV] END classifier__max_features=4, classifier__n_estimators=150; total time=   1.7s\n",
      "[CV] END classifier__max_features=1, classifier__n_estimators=10; total time=   0.1s\n",
      "[CV] END classifier__max_features=1, classifier__n_estimators=20; total time=   0.2s\n",
      "[CV] END classifier__max_features=1, classifier__n_estimators=30; total time=   0.3s\n",
      "[CV] END classifier__max_features=1, classifier__n_estimators=40; total time=   0.5s\n",
      "[CV] END classifier__max_features=1, classifier__n_estimators=50; total time=   0.8s\n",
      "[CV] END classifier__max_features=1, classifier__n_estimators=60; total time=   0.6s\n",
      "[CV] END classifier__max_features=1, classifier__n_estimators=70; total time=   0.6s\n",
      "[CV] END classifier__max_features=1, classifier__n_estimators=70; total time=   0.6s\n",
      "[CV] END classifier__max_features=1, classifier__n_estimators=80; total time=   0.7s\n",
      "[CV] END classifier__max_features=1, classifier__n_estimators=90; total time=   0.7s\n",
      "[CV] END classifier__max_features=1, classifier__n_estimators=100; total time=   0.9s\n",
      "[CV] END classifier__max_features=1, classifier__n_estimators=110; total time=   0.9s\n",
      "[CV] END classifier__max_features=1, classifier__n_estimators=110; total time=   0.9s\n",
      "[CV] END classifier__max_features=1, classifier__n_estimators=120; total time=   1.1s\n",
      "[CV] END classifier__max_features=1, classifier__n_estimators=130; total time=   1.1s\n",
      "[CV] END classifier__max_features=1, classifier__n_estimators=140; total time=   0.9s\n",
      "[CV] END classifier__max_features=1, classifier__n_estimators=140; total time=   1.1s\n",
      "[CV] END classifier__max_features=1, classifier__n_estimators=150; total time=   1.6s\n",
      "[CV] END classifier__max_features=1, classifier__n_estimators=160; total time=   1.2s\n",
      "[CV] END classifier__max_features=1, classifier__n_estimators=170; total time=   1.4s\n",
      "[CV] END classifier__max_features=1, classifier__n_estimators=180; total time=   1.3s\n",
      "[CV] END classifier__max_features=1, classifier__n_estimators=180; total time=   1.3s\n",
      "[CV] END classifier__max_features=1, classifier__n_estimators=190; total time=   1.4s\n",
      "[CV] END classifier__max_features=1, classifier__n_estimators=200; total time=   1.7s\n",
      "[CV] END classifier__max_features=2, classifier__n_estimators=10; total time=   0.1s\n",
      "[CV] END classifier__max_features=2, classifier__n_estimators=10; total time=   0.2s\n",
      "[CV] END classifier__max_features=2, classifier__n_estimators=20; total time=   0.4s\n",
      "[CV] END classifier__max_features=2, classifier__n_estimators=20; total time=   0.4s\n",
      "[CV] END classifier__max_features=2, classifier__n_estimators=30; total time=   0.4s\n",
      "[CV] END classifier__max_features=2, classifier__n_estimators=40; total time=   0.6s\n",
      "[CV] END classifier__max_features=2, classifier__n_estimators=50; total time=   0.6s\n",
      "[CV] END classifier__max_features=2, classifier__n_estimators=50; total time=   0.8s\n",
      "[CV] END classifier__max_features=2, classifier__n_estimators=60; total time=   0.8s\n",
      "[CV] END classifier__max_features=2, classifier__n_estimators=70; total time=   1.0s\n",
      "[CV] END classifier__max_features=2, classifier__n_estimators=80; total time=   1.0s\n",
      "[CV] END classifier__max_features=2, classifier__n_estimators=90; total time=   1.4s\n",
      "[CV] END classifier__max_features=2, classifier__n_estimators=90; total time=   1.0s\n",
      "[CV] END classifier__max_features=2, classifier__n_estimators=100; total time=   1.1s\n",
      "[CV] END classifier__max_features=2, classifier__n_estimators=110; total time=   1.4s\n",
      "[CV] END classifier__max_features=2, classifier__n_estimators=120; total time=   1.4s\n",
      "[CV] END classifier__max_features=2, classifier__n_estimators=130; total time=   1.4s\n",
      "[CV] END classifier__max_features=2, classifier__n_estimators=140; total time=   1.2s\n",
      "[CV] END classifier__max_features=2, classifier__n_estimators=140; total time=   1.4s\n",
      "[CV] END classifier__max_features=2, classifier__n_estimators=150; total time=   1.3s\n",
      "[CV] END classifier__max_features=2, classifier__n_estimators=160; total time=   1.5s\n",
      "[CV] END classifier__max_features=2, classifier__n_estimators=170; total time=   1.6s\n",
      "[CV] END classifier__max_features=2, classifier__n_estimators=180; total time=   1.6s\n",
      "[CV] END classifier__max_features=2, classifier__n_estimators=190; total time=   1.8s\n",
      "[CV] END classifier__max_features=2, classifier__n_estimators=190; total time=   6.1s\n",
      "[CV] END classifier__max_features=2, classifier__n_estimators=200; total time=   3.2s\n",
      "[CV] END classifier__max_features=3, classifier__n_estimators=10; total time=   0.3s\n",
      "[CV] END classifier__max_features=3, classifier__n_estimators=20; total time=   1.1s\n",
      "[CV] END classifier__max_features=3, classifier__n_estimators=30; total time=   0.4s\n",
      "[CV] END classifier__max_features=3, classifier__n_estimators=40; total time=   0.7s\n",
      "[CV] END classifier__max_features=3, classifier__n_estimators=40; total time=   0.5s\n",
      "[CV] END classifier__max_features=3, classifier__n_estimators=50; total time=   0.6s\n",
      "[CV] END classifier__max_features=3, classifier__n_estimators=60; total time=   1.0s\n",
      "[CV] END classifier__max_features=3, classifier__n_estimators=70; total time=   0.8s\n",
      "[CV] END classifier__max_features=3, classifier__n_estimators=80; total time=   0.8s\n",
      "[CV] END classifier__max_features=3, classifier__n_estimators=80; total time=   1.0s\n",
      "[CV] END classifier__max_features=3, classifier__n_estimators=90; total time=   1.6s\n",
      "[CV] END classifier__max_features=3, classifier__n_estimators=100; total time=   1.1s\n",
      "[CV] END classifier__max_features=3, classifier__n_estimators=110; total time=   2.6s\n",
      "[CV] END classifier__max_features=3, classifier__n_estimators=120; total time=   2.3s\n",
      "[CV] END classifier__max_features=3, classifier__n_estimators=120; total time=   2.1s\n",
      "[CV] END classifier__max_features=3, classifier__n_estimators=130; total time=   2.2s\n",
      "[CV] END classifier__max_features=3, classifier__n_estimators=140; total time=   3.3s\n",
      "[CV] END classifier__max_features=3, classifier__n_estimators=150; total time=   1.8s\n",
      "[CV] END classifier__max_features=3, classifier__n_estimators=150; total time=   1.5s\n",
      "[CV] END classifier__max_features=3, classifier__n_estimators=160; total time=   1.7s\n",
      "[CV] END classifier__max_features=3, classifier__n_estimators=170; total time=   1.7s\n",
      "[CV] END classifier__max_features=3, classifier__n_estimators=180; total time=   1.8s\n",
      "[CV] END classifier__max_features=3, classifier__n_estimators=190; total time=   2.0s\n",
      "[CV] END classifier__max_features=3, classifier__n_estimators=190; total time=   1.8s\n",
      "[CV] END classifier__max_features=3, classifier__n_estimators=200; total time=   2.0s\n",
      "[CV] END classifier__max_features=4, classifier__n_estimators=20; total time=   0.2s\n",
      "[CV] END classifier__max_features=4, classifier__n_estimators=30; total time=   0.4s\n",
      "[CV] END classifier__max_features=4, classifier__n_estimators=30; total time=   0.6s\n",
      "[CV] END classifier__max_features=4, classifier__n_estimators=40; total time=   0.7s\n",
      "[CV] END classifier__max_features=4, classifier__n_estimators=50; total time=   0.6s\n",
      "[CV] END classifier__max_features=4, classifier__n_estimators=60; total time=   0.7s\n",
      "[CV] END classifier__max_features=4, classifier__n_estimators=70; total time=   0.8s\n",
      "[CV] END classifier__max_features=4, classifier__n_estimators=70; total time=   0.8s\n",
      "[CV] END classifier__max_features=4, classifier__n_estimators=80; total time=   0.9s\n",
      "[CV] END classifier__max_features=4, classifier__n_estimators=90; total time=   1.2s\n",
      "[CV] END classifier__max_features=4, classifier__n_estimators=100; total time=   1.3s\n",
      "[CV] END classifier__max_features=4, classifier__n_estimators=110; total time=   1.6s\n",
      "[CV] END classifier__max_features=4, classifier__n_estimators=110; total time=   1.8s\n",
      "[CV] END classifier__max_features=4, classifier__n_estimators=120; total time=   1.8s\n",
      "[CV] END classifier__max_features=4, classifier__n_estimators=130; total time=   1.7s\n",
      "[CV] END classifier__max_features=4, classifier__n_estimators=140; total time=   1.6s\n",
      "[CV] END classifier__max_features=4, classifier__n_estimators=150; total time=   1.9s\n",
      "[CV] END classifier__max_features=4, classifier__n_estimators=150; total time=   1.8s\n",
      "[CV] END classifier__max_features=4, classifier__n_estimators=160; total time=   1.8s\n",
      "[CV] END classifier__max_features=4, classifier__n_estimators=170; total time=   1.9s\n",
      "[CV] END classifier__max_features=1, classifier__n_estimators=10; total time=   0.1s\n",
      "[CV] END classifier__max_features=1, classifier__n_estimators=20; total time=   0.2s\n",
      "[CV] END classifier__max_features=1, classifier__n_estimators=20; total time=   0.2s\n",
      "[CV] END classifier__max_features=1, classifier__n_estimators=30; total time=   0.2s\n",
      "[CV] END classifier__max_features=1, classifier__n_estimators=40; total time=   0.3s\n",
      "[CV] END classifier__max_features=1, classifier__n_estimators=50; total time=   0.4s\n",
      "[CV] END classifier__max_features=1, classifier__n_estimators=50; total time=   0.5s\n",
      "[CV] END classifier__max_features=1, classifier__n_estimators=60; total time=   0.5s\n",
      "[CV] END classifier__max_features=1, classifier__n_estimators=70; total time=   0.5s\n",
      "[CV] END classifier__max_features=1, classifier__n_estimators=80; total time=   0.7s\n",
      "[CV] END classifier__max_features=1, classifier__n_estimators=80; total time=   0.6s\n",
      "[CV] END classifier__max_features=1, classifier__n_estimators=90; total time=   0.7s\n",
      "[CV] END classifier__max_features=1, classifier__n_estimators=100; total time=   0.8s\n",
      "[CV] END classifier__max_features=1, classifier__n_estimators=110; total time=   0.8s\n",
      "[CV] END classifier__max_features=1, classifier__n_estimators=120; total time=   1.5s\n",
      "[CV] END classifier__max_features=1, classifier__n_estimators=120; total time=   1.1s\n",
      "[CV] END classifier__max_features=1, classifier__n_estimators=130; total time=   0.9s\n",
      "[CV] END classifier__max_features=1, classifier__n_estimators=140; total time=   1.2s\n",
      "[CV] END classifier__max_features=1, classifier__n_estimators=150; total time=   1.3s\n",
      "[CV] END classifier__max_features=1, classifier__n_estimators=160; total time=   1.2s\n",
      "[CV] END classifier__max_features=1, classifier__n_estimators=160; total time=   1.4s\n",
      "[CV] END classifier__max_features=1, classifier__n_estimators=170; total time=   1.2s\n",
      "[CV] END classifier__max_features=1, classifier__n_estimators=180; total time=   1.4s\n",
      "[CV] END classifier__max_features=1, classifier__n_estimators=190; total time=   1.4s\n",
      "[CV] END classifier__max_features=1, classifier__n_estimators=200; total time=   1.4s\n",
      "[CV] END classifier__max_features=1, classifier__n_estimators=200; total time=   2.4s\n",
      "[CV] END classifier__max_features=2, classifier__n_estimators=30; total time=   0.6s\n",
      "[CV] END classifier__max_features=2, classifier__n_estimators=30; total time=   0.3s\n",
      "[CV] END classifier__max_features=2, classifier__n_estimators=40; total time=   0.5s\n",
      "[CV] END classifier__max_features=2, classifier__n_estimators=50; total time=   0.5s\n",
      "[CV] END classifier__max_features=2, classifier__n_estimators=60; total time=   0.9s\n",
      "[CV] END classifier__max_features=2, classifier__n_estimators=60; total time=   0.7s\n",
      "[CV] END classifier__max_features=2, classifier__n_estimators=70; total time=   0.9s\n",
      "[CV] END classifier__max_features=2, classifier__n_estimators=80; total time=   1.0s\n",
      "[CV] END classifier__max_features=2, classifier__n_estimators=80; total time=   0.9s\n",
      "[CV] END classifier__max_features=2, classifier__n_estimators=90; total time=   1.2s\n",
      "[CV] END classifier__max_features=2, classifier__n_estimators=100; total time=   1.0s\n",
      "[CV] END classifier__max_features=2, classifier__n_estimators=110; total time=   1.1s\n",
      "[CV] END classifier__max_features=2, classifier__n_estimators=120; total time=   1.4s\n",
      "[CV] END classifier__max_features=2, classifier__n_estimators=120; total time=   1.3s\n",
      "[CV] END classifier__max_features=2, classifier__n_estimators=130; total time=   1.2s\n",
      "[CV] END classifier__max_features=2, classifier__n_estimators=140; total time=   1.2s\n",
      "[CV] END classifier__max_features=2, classifier__n_estimators=150; total time=   1.4s\n",
      "[CV] END classifier__max_features=2, classifier__n_estimators=160; total time=   1.4s\n",
      "[CV] END classifier__max_features=2, classifier__n_estimators=160; total time=   1.5s\n",
      "[CV] END classifier__max_features=2, classifier__n_estimators=170; total time=   1.6s\n",
      "[CV] END classifier__max_features=2, classifier__n_estimators=180; total time=   1.8s\n",
      "[CV] END classifier__max_features=2, classifier__n_estimators=190; total time=   1.7s\n",
      "[CV] END classifier__max_features=2, classifier__n_estimators=200; total time=   5.9s\n",
      "[CV] END classifier__max_features=2, classifier__n_estimators=200; total time=   3.6s\n",
      "[CV] END classifier__max_features=3, classifier__n_estimators=20; total time=   0.5s\n",
      "[CV] END classifier__max_features=3, classifier__n_estimators=30; total time=   0.5s\n",
      "[CV] END classifier__max_features=3, classifier__n_estimators=40; total time=   0.4s\n",
      "[CV] END classifier__max_features=3, classifier__n_estimators=50; total time=   0.6s\n",
      "[CV] END classifier__max_features=3, classifier__n_estimators=50; total time=   0.7s\n",
      "[CV] END classifier__max_features=3, classifier__n_estimators=60; total time=   1.0s\n",
      "[CV] END classifier__max_features=3, classifier__n_estimators=70; total time=   0.8s\n",
      "[CV] END classifier__max_features=3, classifier__n_estimators=80; total time=   0.8s\n",
      "[CV] END classifier__max_features=3, classifier__n_estimators=90; total time=   1.3s\n",
      "[CV] END classifier__max_features=3, classifier__n_estimators=90; total time=   1.2s\n",
      "[CV] END classifier__max_features=3, classifier__n_estimators=100; total time=   1.2s\n",
      "[CV] END classifier__max_features=3, classifier__n_estimators=110; total time=   2.5s\n",
      "[CV] END classifier__max_features=3, classifier__n_estimators=120; total time=   3.1s\n",
      "[CV] END classifier__max_features=3, classifier__n_estimators=130; total time=   2.5s\n",
      "[CV] END classifier__max_features=3, classifier__n_estimators=130; total time=   2.7s\n",
      "[CV] END classifier__max_features=3, classifier__n_estimators=140; total time=   1.8s\n",
      "[CV] END classifier__max_features=3, classifier__n_estimators=150; total time=   1.6s\n",
      "[CV] END classifier__max_features=3, classifier__n_estimators=160; total time=   1.8s\n",
      "[CV] END classifier__max_features=3, classifier__n_estimators=170; total time=   1.6s\n",
      "[CV] END classifier__max_features=3, classifier__n_estimators=170; total time=   1.8s\n",
      "[CV] END classifier__max_features=3, classifier__n_estimators=180; total time=   1.7s\n",
      "[CV] END classifier__max_features=3, classifier__n_estimators=190; total time=   1.9s\n",
      "[CV] END classifier__max_features=3, classifier__n_estimators=200; total time=   1.9s\n",
      "[CV] END classifier__max_features=3, classifier__n_estimators=200; total time=   2.0s\n",
      "[CV] END classifier__max_features=4, classifier__n_estimators=30; total time=   0.5s\n",
      "[CV] END classifier__max_features=4, classifier__n_estimators=40; total time=   0.6s\n",
      "[CV] END classifier__max_features=4, classifier__n_estimators=50; total time=   0.7s\n",
      "[CV] END classifier__max_features=4, classifier__n_estimators=50; total time=   0.6s\n",
      "[CV] END classifier__max_features=4, classifier__n_estimators=60; total time=   0.7s\n",
      "[CV] END classifier__max_features=4, classifier__n_estimators=70; total time=   1.0s\n",
      "[CV] END classifier__max_features=4, classifier__n_estimators=80; total time=   0.9s\n",
      "[CV] END classifier__max_features=4, classifier__n_estimators=90; total time=   1.0s\n",
      "[CV] END classifier__max_features=4, classifier__n_estimators=90; total time=   1.1s\n",
      "[CV] END classifier__max_features=4, classifier__n_estimators=100; total time=   1.2s\n",
      "[CV] END classifier__max_features=4, classifier__n_estimators=110; total time=   2.1s\n",
      "[CV] END classifier__max_features=4, classifier__n_estimators=120; total time=   1.3s\n",
      "[CV] END classifier__max_features=4, classifier__n_estimators=120; total time=   1.7s\n",
      "[CV] END classifier__max_features=4, classifier__n_estimators=130; total time=   1.7s\n",
      "[CV] END classifier__max_features=4, classifier__n_estimators=140; total time=   1.7s\n",
      "[CV] END classifier__max_features=4, classifier__n_estimators=150; total time=   1.7s\n",
      "[CV] END classifier__max_features=4, classifier__n_estimators=160; total time=   2.0s\n",
      "[CV] END classifier__max_features=4, classifier__n_estimators=170; total time=   1.9s\n",
      "[CV] END classifier__max_features=4, classifier__n_estimators=170; total time=   1.8s\n",
      "[CV] END classifier__max_features=4, classifier__n_estimators=180; total time=   2.0s\n",
      "[CV] END classifier__max_features=4, classifier__n_estimators=190; total time=   2.4s\n",
      "The best parameters are {'classifier__max_features': 3, 'classifier__n_estimators': 150} with a score of 0.96\n"
     ]
    }
   ],
   "source": [
    "param_grid = {\n",
    "    'classifier__max_features': np.arange(1, 6, 1),\n",
    "    'classifier__n_estimators': np.arange(10, 210, 10)\n",
    "}\n",
    "\n",
    "grid = GridSearchCV(estimator=pipeline, param_grid=param_grid, cv=5, n_jobs=-1, verbose=2)\n",
    "grid.fit(X_train, y_train)\n",
    "print(\"The best parameters are %s with a score of %0.2f\" % (grid.best_params_, grid.best_score_))\n"
   ]
  },
  {
   "cell_type": "code",
   "execution_count": 11,
   "metadata": {
    "colab": {
     "base_uri": "https://localhost:8080/",
     "height": 164
    },
    "id": "eWxTJzrXkep4",
    "outputId": "dd819c90-99db-4b8b-f11b-cd6e3ad438a8"
   },
   "outputs": [],
   "source": [
    "grid_results = pd.concat([pd.DataFrame(grid.cv_results_[\"params\"]), pd.DataFrame(grid.cv_results_[\"mean_test_score\"], columns=[\"Accuracy\"])], axis=1)\n",
    "grid_contour = grid_results.groupby(['classifier__max_features', 'classifier__n_estimators']).mean()\n",
    "grid_reset = grid_contour.reset_index()\n",
    "grid_reset.columns = ['max_features', 'n_estimators', 'Accuracy']\n",
    "grid_pivot = grid_reset.pivot(index='max_features', columns='n_estimators', values='Accuracy')\n",
    "\n"
   ]
  },
  {
   "cell_type": "code",
   "execution_count": 12,
   "metadata": {
    "colab": {
     "base_uri": "https://localhost:8080/"
    },
    "id": "yJmNo3LFm7hm",
    "outputId": "7f4837ba-cbb7-47c7-b671-3c0d26fe690b"
   },
   "outputs": [],
   "source": [
    "x = grid_pivot.columns.values\n",
    "y = grid_pivot.index.values\n",
    "z = grid_pivot.values"
   ]
  },
  {
   "cell_type": "code",
   "execution_count": 34,
   "metadata": {
    "colab": {
     "base_uri": "https://localhost:8080/",
     "height": 97
    },
    "id": "4bdu9T6sm7vJ",
    "outputId": "aa66e3a5-0bd4-45da-b4b1-ff3a2db8044c"
   },
   "outputs": [],
   "source": [
    "layout = go.Layout(\n",
    "    xaxis=go.layout.XAxis(\n",
    "        title=go.layout.xaxis.Title(\n",
    "            text='n_estimators',\n",
    "            font=dict(size=14, color='white')\n",
    "        ),\n",
    "        tickfont=dict(size=12, color='white')\n",
    "    ),\n",
    "    yaxis=go.layout.YAxis(\n",
    "        title=go.layout.yaxis.Title(\n",
    "            text='max_features',\n",
    "            font=dict(size=14, color='white')\n",
    "        ),\n",
    "        tickfont=dict(size=12, color='white')\n",
    "    ),\n",
    "    paper_bgcolor='#000000',\n",
    "    plot_bgcolor='#000000',\n",
    "    font=dict(color='white')\n",
    ")\n",
    "polynesian_blue_colorscale = [\n",
    "    [0, '#002D72'],\n",
    "    [0.5, '#4169E1'],\n",
    "    [1, '#AFDBF5']\n",
    "]"
   ]
  },
  {
   "cell_type": "code",
   "execution_count": 38,
   "metadata": {
    "colab": {
     "base_uri": "https://localhost:8080/"
    },
    "id": "kgbKXRH4m75s",
    "outputId": "dc5e7ec6-6c2e-4bd0-86eb-e6cef0022d6a"
   },
   "outputs": [
    {
     "data": {
      "application/vnd.plotly.v1+json": {
       "config": {
        "plotlyServerURL": "https://plot.ly"
       },
       "data": [
        {
         "autocontour": true,
         "colorscale": [
          [
           0,
           "#002D72"
          ],
          [
           0.5,
           "#4169E1"
          ],
          [
           1,
           "#AFDBF5"
          ]
         ],
         "contours": {
          "end": 0.9592,
          "size": 0.0002,
          "start": 0.9572
         },
         "type": "contour",
         "x": [
          10,
          20,
          30,
          40,
          50,
          60,
          70,
          80,
          90,
          100,
          110,
          120,
          130,
          140,
          150,
          160,
          170,
          180,
          190,
          200
         ],
         "y": [
          1,
          2,
          3,
          4,
          5
         ],
         "z": [
          [
           0.9579523607833644,
           0.9585874427704161,
           0.9585873620943506,
           0.9585875234464816,
           0.9588416530525807,
           0.9588415723765152,
           0.9587144268974003,
           0.9588414917004497,
           0.9587145075734655,
           0.9590954599544179,
           0.9590954599544179,
           0.9589684758274337,
           0.9588414110243842,
           0.9589684758274337,
           0.9587144268974003,
           0.9587144268974003,
           0.9587144268974003,
           0.9587144268974003,
           0.9587145075734658,
           0.9587145075734658
          ],
          [
           0.9579521994312337,
           0.9587144268974003,
           0.9589685565034992,
           0.9590956213065487,
           0.9592226861095984,
           0.9590957019826142,
           0.9590957019826142,
           0.9590957019826142,
           0.9590957019826142,
           0.9593496702365825,
           0.9592226861095984,
           0.9590957019826142,
           0.9590957019826142,
           0.9589687178556302,
           0.9589687178556302,
           0.9589687178556302,
           0.9589687178556302,
           0.9589687178556302,
           0.9587146689255965,
           0.958714588249531
          ],
          [
           0.9583333938403824,
           0.9585875234464816,
           0.9589687178556302,
           0.9588417337286461,
           0.9587146689255965,
           0.9590955406304834,
           0.9587145075734655,
           0.9588416530525807,
           0.9590956213065489,
           0.9589686371795647,
           0.9589686371795647,
           0.9592227667856639,
           0.9590957826586797,
           0.9589687178556302,
           0.9593496702365826,
           0.9592226861095984,
           0.9590957019826144,
           0.9592226861095984,
           0.9589687178556302,
           0.9589686371795647
          ],
          [
           0.9583331518121861,
           0.9588414110243842,
           0.9588414917004497,
           0.9589684758274337,
           0.9588414110243842,
           0.9587144268974,
           0.9587144268974,
           0.9589685565034994,
           0.9585874427704161,
           0.958841572376515,
           0.9588414917004497,
           0.9587145075734655,
           0.958841572376515,
           0.9590956213065489,
           0.9588415723765152,
           0.9588415723765152,
           0.9589686371795647,
           0.9588415723765152,
           0.958714588249531,
           0.958714588249531
          ],
          [
           0.9570628264859522,
           0.9585874427704161,
           0.9583333938403825,
           0.9585874427704161,
           0.9584603779673664,
           0.9587144268974003,
           0.9587143462213348,
           0.9589684758274339,
           0.9585875234464816,
           0.9587145075734655,
           0.9589685565034994,
           0.9589684758274339,
           0.9588414110243842,
           0.9590954599544179,
           0.9588414917004497,
           0.9585875234464816,
           0.9587145075734655,
           0.9588414917004497,
           0.9585874427704161,
           0.9587145075734655
          ]
         ]
        }
       ],
       "layout": {
        "autosize": false,
        "font": {
         "color": "white"
        },
        "height": 400,
        "margin": {
         "b": 65,
         "l": 65,
         "r": 50,
         "t": 90
        },
        "paper_bgcolor": "#000000",
        "plot_bgcolor": "#000000",
        "template": {
         "data": {
          "bar": [
           {
            "error_x": {
             "color": "#2a3f5f"
            },
            "error_y": {
             "color": "#2a3f5f"
            },
            "marker": {
             "line": {
              "color": "#E5ECF6",
              "width": 0.5
             },
             "pattern": {
              "fillmode": "overlay",
              "size": 10,
              "solidity": 0.2
             }
            },
            "type": "bar"
           }
          ],
          "barpolar": [
           {
            "marker": {
             "line": {
              "color": "#E5ECF6",
              "width": 0.5
             },
             "pattern": {
              "fillmode": "overlay",
              "size": 10,
              "solidity": 0.2
             }
            },
            "type": "barpolar"
           }
          ],
          "carpet": [
           {
            "aaxis": {
             "endlinecolor": "#2a3f5f",
             "gridcolor": "white",
             "linecolor": "white",
             "minorgridcolor": "white",
             "startlinecolor": "#2a3f5f"
            },
            "baxis": {
             "endlinecolor": "#2a3f5f",
             "gridcolor": "white",
             "linecolor": "white",
             "minorgridcolor": "white",
             "startlinecolor": "#2a3f5f"
            },
            "type": "carpet"
           }
          ],
          "choropleth": [
           {
            "colorbar": {
             "outlinewidth": 0,
             "ticks": ""
            },
            "type": "choropleth"
           }
          ],
          "contour": [
           {
            "colorbar": {
             "outlinewidth": 0,
             "ticks": ""
            },
            "colorscale": [
             [
              0,
              "#0d0887"
             ],
             [
              0.1111111111111111,
              "#46039f"
             ],
             [
              0.2222222222222222,
              "#7201a8"
             ],
             [
              0.3333333333333333,
              "#9c179e"
             ],
             [
              0.4444444444444444,
              "#bd3786"
             ],
             [
              0.5555555555555556,
              "#d8576b"
             ],
             [
              0.6666666666666666,
              "#ed7953"
             ],
             [
              0.7777777777777778,
              "#fb9f3a"
             ],
             [
              0.8888888888888888,
              "#fdca26"
             ],
             [
              1,
              "#f0f921"
             ]
            ],
            "type": "contour"
           }
          ],
          "contourcarpet": [
           {
            "colorbar": {
             "outlinewidth": 0,
             "ticks": ""
            },
            "type": "contourcarpet"
           }
          ],
          "heatmap": [
           {
            "colorbar": {
             "outlinewidth": 0,
             "ticks": ""
            },
            "colorscale": [
             [
              0,
              "#0d0887"
             ],
             [
              0.1111111111111111,
              "#46039f"
             ],
             [
              0.2222222222222222,
              "#7201a8"
             ],
             [
              0.3333333333333333,
              "#9c179e"
             ],
             [
              0.4444444444444444,
              "#bd3786"
             ],
             [
              0.5555555555555556,
              "#d8576b"
             ],
             [
              0.6666666666666666,
              "#ed7953"
             ],
             [
              0.7777777777777778,
              "#fb9f3a"
             ],
             [
              0.8888888888888888,
              "#fdca26"
             ],
             [
              1,
              "#f0f921"
             ]
            ],
            "type": "heatmap"
           }
          ],
          "heatmapgl": [
           {
            "colorbar": {
             "outlinewidth": 0,
             "ticks": ""
            },
            "colorscale": [
             [
              0,
              "#0d0887"
             ],
             [
              0.1111111111111111,
              "#46039f"
             ],
             [
              0.2222222222222222,
              "#7201a8"
             ],
             [
              0.3333333333333333,
              "#9c179e"
             ],
             [
              0.4444444444444444,
              "#bd3786"
             ],
             [
              0.5555555555555556,
              "#d8576b"
             ],
             [
              0.6666666666666666,
              "#ed7953"
             ],
             [
              0.7777777777777778,
              "#fb9f3a"
             ],
             [
              0.8888888888888888,
              "#fdca26"
             ],
             [
              1,
              "#f0f921"
             ]
            ],
            "type": "heatmapgl"
           }
          ],
          "histogram": [
           {
            "marker": {
             "pattern": {
              "fillmode": "overlay",
              "size": 10,
              "solidity": 0.2
             }
            },
            "type": "histogram"
           }
          ],
          "histogram2d": [
           {
            "colorbar": {
             "outlinewidth": 0,
             "ticks": ""
            },
            "colorscale": [
             [
              0,
              "#0d0887"
             ],
             [
              0.1111111111111111,
              "#46039f"
             ],
             [
              0.2222222222222222,
              "#7201a8"
             ],
             [
              0.3333333333333333,
              "#9c179e"
             ],
             [
              0.4444444444444444,
              "#bd3786"
             ],
             [
              0.5555555555555556,
              "#d8576b"
             ],
             [
              0.6666666666666666,
              "#ed7953"
             ],
             [
              0.7777777777777778,
              "#fb9f3a"
             ],
             [
              0.8888888888888888,
              "#fdca26"
             ],
             [
              1,
              "#f0f921"
             ]
            ],
            "type": "histogram2d"
           }
          ],
          "histogram2dcontour": [
           {
            "colorbar": {
             "outlinewidth": 0,
             "ticks": ""
            },
            "colorscale": [
             [
              0,
              "#0d0887"
             ],
             [
              0.1111111111111111,
              "#46039f"
             ],
             [
              0.2222222222222222,
              "#7201a8"
             ],
             [
              0.3333333333333333,
              "#9c179e"
             ],
             [
              0.4444444444444444,
              "#bd3786"
             ],
             [
              0.5555555555555556,
              "#d8576b"
             ],
             [
              0.6666666666666666,
              "#ed7953"
             ],
             [
              0.7777777777777778,
              "#fb9f3a"
             ],
             [
              0.8888888888888888,
              "#fdca26"
             ],
             [
              1,
              "#f0f921"
             ]
            ],
            "type": "histogram2dcontour"
           }
          ],
          "mesh3d": [
           {
            "colorbar": {
             "outlinewidth": 0,
             "ticks": ""
            },
            "type": "mesh3d"
           }
          ],
          "parcoords": [
           {
            "line": {
             "colorbar": {
              "outlinewidth": 0,
              "ticks": ""
             }
            },
            "type": "parcoords"
           }
          ],
          "pie": [
           {
            "automargin": true,
            "type": "pie"
           }
          ],
          "scatter": [
           {
            "fillpattern": {
             "fillmode": "overlay",
             "size": 10,
             "solidity": 0.2
            },
            "type": "scatter"
           }
          ],
          "scatter3d": [
           {
            "line": {
             "colorbar": {
              "outlinewidth": 0,
              "ticks": ""
             }
            },
            "marker": {
             "colorbar": {
              "outlinewidth": 0,
              "ticks": ""
             }
            },
            "type": "scatter3d"
           }
          ],
          "scattercarpet": [
           {
            "marker": {
             "colorbar": {
              "outlinewidth": 0,
              "ticks": ""
             }
            },
            "type": "scattercarpet"
           }
          ],
          "scattergeo": [
           {
            "marker": {
             "colorbar": {
              "outlinewidth": 0,
              "ticks": ""
             }
            },
            "type": "scattergeo"
           }
          ],
          "scattergl": [
           {
            "marker": {
             "colorbar": {
              "outlinewidth": 0,
              "ticks": ""
             }
            },
            "type": "scattergl"
           }
          ],
          "scattermapbox": [
           {
            "marker": {
             "colorbar": {
              "outlinewidth": 0,
              "ticks": ""
             }
            },
            "type": "scattermapbox"
           }
          ],
          "scatterpolar": [
           {
            "marker": {
             "colorbar": {
              "outlinewidth": 0,
              "ticks": ""
             }
            },
            "type": "scatterpolar"
           }
          ],
          "scatterpolargl": [
           {
            "marker": {
             "colorbar": {
              "outlinewidth": 0,
              "ticks": ""
             }
            },
            "type": "scatterpolargl"
           }
          ],
          "scatterternary": [
           {
            "marker": {
             "colorbar": {
              "outlinewidth": 0,
              "ticks": ""
             }
            },
            "type": "scatterternary"
           }
          ],
          "surface": [
           {
            "colorbar": {
             "outlinewidth": 0,
             "ticks": ""
            },
            "colorscale": [
             [
              0,
              "#0d0887"
             ],
             [
              0.1111111111111111,
              "#46039f"
             ],
             [
              0.2222222222222222,
              "#7201a8"
             ],
             [
              0.3333333333333333,
              "#9c179e"
             ],
             [
              0.4444444444444444,
              "#bd3786"
             ],
             [
              0.5555555555555556,
              "#d8576b"
             ],
             [
              0.6666666666666666,
              "#ed7953"
             ],
             [
              0.7777777777777778,
              "#fb9f3a"
             ],
             [
              0.8888888888888888,
              "#fdca26"
             ],
             [
              1,
              "#f0f921"
             ]
            ],
            "type": "surface"
           }
          ],
          "table": [
           {
            "cells": {
             "fill": {
              "color": "#EBF0F8"
             },
             "line": {
              "color": "white"
             }
            },
            "header": {
             "fill": {
              "color": "#C8D4E3"
             },
             "line": {
              "color": "white"
             }
            },
            "type": "table"
           }
          ]
         },
         "layout": {
          "annotationdefaults": {
           "arrowcolor": "#2a3f5f",
           "arrowhead": 0,
           "arrowwidth": 1
          },
          "autotypenumbers": "strict",
          "coloraxis": {
           "colorbar": {
            "outlinewidth": 0,
            "ticks": ""
           }
          },
          "colorscale": {
           "diverging": [
            [
             0,
             "#8e0152"
            ],
            [
             0.1,
             "#c51b7d"
            ],
            [
             0.2,
             "#de77ae"
            ],
            [
             0.3,
             "#f1b6da"
            ],
            [
             0.4,
             "#fde0ef"
            ],
            [
             0.5,
             "#f7f7f7"
            ],
            [
             0.6,
             "#e6f5d0"
            ],
            [
             0.7,
             "#b8e186"
            ],
            [
             0.8,
             "#7fbc41"
            ],
            [
             0.9,
             "#4d9221"
            ],
            [
             1,
             "#276419"
            ]
           ],
           "sequential": [
            [
             0,
             "#0d0887"
            ],
            [
             0.1111111111111111,
             "#46039f"
            ],
            [
             0.2222222222222222,
             "#7201a8"
            ],
            [
             0.3333333333333333,
             "#9c179e"
            ],
            [
             0.4444444444444444,
             "#bd3786"
            ],
            [
             0.5555555555555556,
             "#d8576b"
            ],
            [
             0.6666666666666666,
             "#ed7953"
            ],
            [
             0.7777777777777778,
             "#fb9f3a"
            ],
            [
             0.8888888888888888,
             "#fdca26"
            ],
            [
             1,
             "#f0f921"
            ]
           ],
           "sequentialminus": [
            [
             0,
             "#0d0887"
            ],
            [
             0.1111111111111111,
             "#46039f"
            ],
            [
             0.2222222222222222,
             "#7201a8"
            ],
            [
             0.3333333333333333,
             "#9c179e"
            ],
            [
             0.4444444444444444,
             "#bd3786"
            ],
            [
             0.5555555555555556,
             "#d8576b"
            ],
            [
             0.6666666666666666,
             "#ed7953"
            ],
            [
             0.7777777777777778,
             "#fb9f3a"
            ],
            [
             0.8888888888888888,
             "#fdca26"
            ],
            [
             1,
             "#f0f921"
            ]
           ]
          },
          "colorway": [
           "#636efa",
           "#EF553B",
           "#00cc96",
           "#ab63fa",
           "#FFA15A",
           "#19d3f3",
           "#FF6692",
           "#B6E880",
           "#FF97FF",
           "#FECB52"
          ],
          "font": {
           "color": "#2a3f5f"
          },
          "geo": {
           "bgcolor": "white",
           "lakecolor": "white",
           "landcolor": "#E5ECF6",
           "showlakes": true,
           "showland": true,
           "subunitcolor": "white"
          },
          "hoverlabel": {
           "align": "left"
          },
          "hovermode": "closest",
          "mapbox": {
           "style": "light"
          },
          "paper_bgcolor": "white",
          "plot_bgcolor": "#E5ECF6",
          "polar": {
           "angularaxis": {
            "gridcolor": "white",
            "linecolor": "white",
            "ticks": ""
           },
           "bgcolor": "#E5ECF6",
           "radialaxis": {
            "gridcolor": "white",
            "linecolor": "white",
            "ticks": ""
           }
          },
          "scene": {
           "xaxis": {
            "backgroundcolor": "#E5ECF6",
            "gridcolor": "white",
            "gridwidth": 2,
            "linecolor": "white",
            "showbackground": true,
            "ticks": "",
            "zerolinecolor": "white"
           },
           "yaxis": {
            "backgroundcolor": "#E5ECF6",
            "gridcolor": "white",
            "gridwidth": 2,
            "linecolor": "white",
            "showbackground": true,
            "ticks": "",
            "zerolinecolor": "white"
           },
           "zaxis": {
            "backgroundcolor": "#E5ECF6",
            "gridcolor": "white",
            "gridwidth": 2,
            "linecolor": "white",
            "showbackground": true,
            "ticks": "",
            "zerolinecolor": "white"
           }
          },
          "shapedefaults": {
           "line": {
            "color": "#2a3f5f"
           }
          },
          "ternary": {
           "aaxis": {
            "gridcolor": "white",
            "linecolor": "white",
            "ticks": ""
           },
           "baxis": {
            "gridcolor": "white",
            "linecolor": "white",
            "ticks": ""
           },
           "bgcolor": "#E5ECF6",
           "caxis": {
            "gridcolor": "white",
            "linecolor": "white",
            "ticks": ""
           }
          },
          "title": {
           "x": 0.05
          },
          "xaxis": {
           "automargin": true,
           "gridcolor": "white",
           "linecolor": "white",
           "ticks": "",
           "title": {
            "standoff": 15
           },
           "zerolinecolor": "white",
           "zerolinewidth": 2
          },
          "yaxis": {
           "automargin": true,
           "gridcolor": "white",
           "linecolor": "white",
           "ticks": "",
           "title": {
            "standoff": 15
           },
           "zerolinecolor": "white",
           "zerolinewidth": 2
          }
         }
        },
        "title": {
         "font": {
          "color": "#AFDBF5",
          "size": 20
         },
         "text": "Hyperparameter Tuning Contour Plot"
        },
        "width": 500,
        "xaxis": {
         "autorange": true,
         "range": [
          10,
          200
         ],
         "tickfont": {
          "color": "white",
          "size": 12
         },
         "title": {
          "font": {
           "color": "white",
           "size": 14
          },
          "text": "n_estimators"
         },
         "type": "linear"
        },
        "yaxis": {
         "autorange": true,
         "range": [
          1,
          5
         ],
         "tickfont": {
          "color": "white",
          "size": 12
         },
         "title": {
          "font": {
           "color": "white",
           "size": 14
          },
          "text": "max_features"
         },
         "type": "linear"
        }
       }
      },
      "image/png": "[encoded data removed]",
      "text/html": [
       "<div>                            <div id=\"e6e69790-e2dc-4072-960b-4907f7f67b7a\" class=\"plotly-graph-div\" style=\"height:400px; width:500px;\"></div>            <script type=\"text/javascript\">                require([\"plotly\"], function(Plotly) {                    window.PLOTLYENV=window.PLOTLYENV || {};                                    if (document.getElementById(\"e6e69790-e2dc-4072-960b-4907f7f67b7a\")) {                    Plotly.newPlot(                        \"e6e69790-e2dc-4072-960b-4907f7f67b7a\",                        [{\"colorscale\":[[0,\"#002D72\"],[0.5,\"#4169E1\"],[1,\"#AFDBF5\"]],\"x\":[10,20,30,40,50,60,70,80,90,100,110,120,130,140,150,160,170,180,190,200],\"y\":[1,2,3,4,5],\"z\":[[0.9579523607833644,0.9585874427704161,0.9585873620943506,0.9585875234464816,0.9588416530525807,0.9588415723765152,0.9587144268974003,0.9588414917004497,0.9587145075734655,0.9590954599544179,0.9590954599544179,0.9589684758274337,0.9588414110243842,0.9589684758274337,0.9587144268974003,0.9587144268974003,0.9587144268974003,0.9587144268974003,0.9587145075734658,0.9587145075734658],[0.9579521994312337,0.9587144268974003,0.9589685565034992,0.9590956213065487,0.9592226861095984,0.9590957019826142,0.9590957019826142,0.9590957019826142,0.9590957019826142,0.9593496702365825,0.9592226861095984,0.9590957019826142,0.9590957019826142,0.9589687178556302,0.9589687178556302,0.9589687178556302,0.9589687178556302,0.9589687178556302,0.9587146689255965,0.958714588249531],[0.9583333938403824,0.9585875234464816,0.9589687178556302,0.9588417337286461,0.9587146689255965,0.9590955406304834,0.9587145075734655,0.9588416530525807,0.9590956213065489,0.9589686371795647,0.9589686371795647,0.9592227667856639,0.9590957826586797,0.9589687178556302,0.9593496702365826,0.9592226861095984,0.9590957019826144,0.9592226861095984,0.9589687178556302,0.9589686371795647],[0.9583331518121861,0.9588414110243842,0.9588414917004497,0.9589684758274337,0.9588414110243842,0.9587144268974,0.9587144268974,0.9589685565034994,0.9585874427704161,0.958841572376515,0.9588414917004497,0.9587145075734655,0.958841572376515,0.9590956213065489,0.9588415723765152,0.9588415723765152,0.9589686371795647,0.9588415723765152,0.958714588249531,0.958714588249531],[0.9570628264859522,0.9585874427704161,0.9583333938403825,0.9585874427704161,0.9584603779673664,0.9587144268974003,0.9587143462213348,0.9589684758274339,0.9585875234464816,0.9587145075734655,0.9589685565034994,0.9589684758274339,0.9588414110243842,0.9590954599544179,0.9588414917004497,0.9585875234464816,0.9587145075734655,0.9588414917004497,0.9585874427704161,0.9587145075734655]],\"type\":\"contour\"}],                        {\"font\":{\"color\":\"white\"},\"paper_bgcolor\":\"#000000\",\"plot_bgcolor\":\"#000000\",\"xaxis\":{\"tickfont\":{\"color\":\"white\",\"size\":12},\"title\":{\"font\":{\"color\":\"white\",\"size\":14},\"text\":\"n_estimators\"}},\"yaxis\":{\"tickfont\":{\"color\":\"white\",\"size\":12},\"title\":{\"font\":{\"color\":\"white\",\"size\":14},\"text\":\"max_features\"}},\"template\":{\"data\":{\"histogram2dcontour\":[{\"type\":\"histogram2dcontour\",\"colorbar\":{\"outlinewidth\":0,\"ticks\":\"\"},\"colorscale\":[[0.0,\"#0d0887\"],[0.1111111111111111,\"#46039f\"],[0.2222222222222222,\"#7201a8\"],[0.3333333333333333,\"#9c179e\"],[0.4444444444444444,\"#bd3786\"],[0.5555555555555556,\"#d8576b\"],[0.6666666666666666,\"#ed7953\"],[0.7777777777777778,\"#fb9f3a\"],[0.8888888888888888,\"#fdca26\"],[1.0,\"#f0f921\"]]}],\"choropleth\":[{\"type\":\"choropleth\",\"colorbar\":{\"outlinewidth\":0,\"ticks\":\"\"}}],\"histogram2d\":[{\"type\":\"histogram2d\",\"colorbar\":{\"outlinewidth\":0,\"ticks\":\"\"},\"colorscale\":[[0.0,\"#0d0887\"],[0.1111111111111111,\"#46039f\"],[0.2222222222222222,\"#7201a8\"],[0.3333333333333333,\"#9c179e\"],[0.4444444444444444,\"#bd3786\"],[0.5555555555555556,\"#d8576b\"],[0.6666666666666666,\"#ed7953\"],[0.7777777777777778,\"#fb9f3a\"],[0.8888888888888888,\"#fdca26\"],[1.0,\"#f0f921\"]]}],\"heatmap\":[{\"type\":\"heatmap\",\"colorbar\":{\"outlinewidth\":0,\"ticks\":\"\"},\"colorscale\":[[0.0,\"#0d0887\"],[0.1111111111111111,\"#46039f\"],[0.2222222222222222,\"#7201a8\"],[0.3333333333333333,\"#9c179e\"],[0.4444444444444444,\"#bd3786\"],[0.5555555555555556,\"#d8576b\"],[0.6666666666666666,\"#ed7953\"],[0.7777777777777778,\"#fb9f3a\"],[0.8888888888888888,\"#fdca26\"],[1.0,\"#f0f921\"]]}],\"heatmapgl\":[{\"type\":\"heatmapgl\",\"colorbar\":{\"outlinewidth\":0,\"ticks\":\"\"},\"colorscale\":[[0.0,\"#0d0887\"],[0.1111111111111111,\"#46039f\"],[0.2222222222222222,\"#7201a8\"],[0.3333333333333333,\"#9c179e\"],[0.4444444444444444,\"#bd3786\"],[0.5555555555555556,\"#d8576b\"],[0.6666666666666666,\"#ed7953\"],[0.7777777777777778,\"#fb9f3a\"],[0.8888888888888888,\"#fdca26\"],[1.0,\"#f0f921\"]]}],\"contourcarpet\":[{\"type\":\"contourcarpet\",\"colorbar\":{\"outlinewidth\":0,\"ticks\":\"\"}}],\"contour\":[{\"type\":\"contour\",\"colorbar\":{\"outlinewidth\":0,\"ticks\":\"\"},\"colorscale\":[[0.0,\"#0d0887\"],[0.1111111111111111,\"#46039f\"],[0.2222222222222222,\"#7201a8\"],[0.3333333333333333,\"#9c179e\"],[0.4444444444444444,\"#bd3786\"],[0.5555555555555556,\"#d8576b\"],[0.6666666666666666,\"#ed7953\"],[0.7777777777777778,\"#fb9f3a\"],[0.8888888888888888,\"#fdca26\"],[1.0,\"#f0f921\"]]}],\"surface\":[{\"type\":\"surface\",\"colorbar\":{\"outlinewidth\":0,\"ticks\":\"\"},\"colorscale\":[[0.0,\"#0d0887\"],[0.1111111111111111,\"#46039f\"],[0.2222222222222222,\"#7201a8\"],[0.3333333333333333,\"#9c179e\"],[0.4444444444444444,\"#bd3786\"],[0.5555555555555556,\"#d8576b\"],[0.6666666666666666,\"#ed7953\"],[0.7777777777777778,\"#fb9f3a\"],[0.8888888888888888,\"#fdca26\"],[1.0,\"#f0f921\"]]}],\"mesh3d\":[{\"type\":\"mesh3d\",\"colorbar\":{\"outlinewidth\":0,\"ticks\":\"\"}}],\"scatter\":[{\"fillpattern\":{\"fillmode\":\"overlay\",\"size\":10,\"solidity\":0.2},\"type\":\"scatter\"}],\"parcoords\":[{\"type\":\"parcoords\",\"line\":{\"colorbar\":{\"outlinewidth\":0,\"ticks\":\"\"}}}],\"scatterpolargl\":[{\"type\":\"scatterpolargl\",\"marker\":{\"colorbar\":{\"outlinewidth\":0,\"ticks\":\"\"}}}],\"bar\":[{\"error_x\":{\"color\":\"#2a3f5f\"},\"error_y\":{\"color\":\"#2a3f5f\"},\"marker\":{\"line\":{\"color\":\"#E5ECF6\",\"width\":0.5},\"pattern\":{\"fillmode\":\"overlay\",\"size\":10,\"solidity\":0.2}},\"type\":\"bar\"}],\"scattergeo\":[{\"type\":\"scattergeo\",\"marker\":{\"colorbar\":{\"outlinewidth\":0,\"ticks\":\"\"}}}],\"scatterpolar\":[{\"type\":\"scatterpolar\",\"marker\":{\"colorbar\":{\"outlinewidth\":0,\"ticks\":\"\"}}}],\"histogram\":[{\"marker\":{\"pattern\":{\"fillmode\":\"overlay\",\"size\":10,\"solidity\":0.2}},\"type\":\"histogram\"}],\"scattergl\":[{\"type\":\"scattergl\",\"marker\":{\"colorbar\":{\"outlinewidth\":0,\"ticks\":\"\"}}}],\"scatter3d\":[{\"type\":\"scatter3d\",\"line\":{\"colorbar\":{\"outlinewidth\":0,\"ticks\":\"\"}},\"marker\":{\"colorbar\":{\"outlinewidth\":0,\"ticks\":\"\"}}}],\"scattermapbox\":[{\"type\":\"scattermapbox\",\"marker\":{\"colorbar\":{\"outlinewidth\":0,\"ticks\":\"\"}}}],\"scatterternary\":[{\"type\":\"scatterternary\",\"marker\":{\"colorbar\":{\"outlinewidth\":0,\"ticks\":\"\"}}}],\"scattercarpet\":[{\"type\":\"scattercarpet\",\"marker\":{\"colorbar\":{\"outlinewidth\":0,\"ticks\":\"\"}}}],\"carpet\":[{\"aaxis\":{\"endlinecolor\":\"#2a3f5f\",\"gridcolor\":\"white\",\"linecolor\":\"white\",\"minorgridcolor\":\"white\",\"startlinecolor\":\"#2a3f5f\"},\"baxis\":{\"endlinecolor\":\"#2a3f5f\",\"gridcolor\":\"white\",\"linecolor\":\"white\",\"minorgridcolor\":\"white\",\"startlinecolor\":\"#2a3f5f\"},\"type\":\"carpet\"}],\"table\":[{\"cells\":{\"fill\":{\"color\":\"#EBF0F8\"},\"line\":{\"color\":\"white\"}},\"header\":{\"fill\":{\"color\":\"#C8D4E3\"},\"line\":{\"color\":\"white\"}},\"type\":\"table\"}],\"barpolar\":[{\"marker\":{\"line\":{\"color\":\"#E5ECF6\",\"width\":0.5},\"pattern\":{\"fillmode\":\"overlay\",\"size\":10,\"solidity\":0.2}},\"type\":\"barpolar\"}],\"pie\":[{\"automargin\":true,\"type\":\"pie\"}]},\"layout\":{\"autotypenumbers\":\"strict\",\"colorway\":[\"#636efa\",\"#EF553B\",\"#00cc96\",\"#ab63fa\",\"#FFA15A\",\"#19d3f3\",\"#FF6692\",\"#B6E880\",\"#FF97FF\",\"#FECB52\"],\"font\":{\"color\":\"#2a3f5f\"},\"hovermode\":\"closest\",\"hoverlabel\":{\"align\":\"left\"},\"paper_bgcolor\":\"white\",\"plot_bgcolor\":\"#E5ECF6\",\"polar\":{\"bgcolor\":\"#E5ECF6\",\"angularaxis\":{\"gridcolor\":\"white\",\"linecolor\":\"white\",\"ticks\":\"\"},\"radialaxis\":{\"gridcolor\":\"white\",\"linecolor\":\"white\",\"ticks\":\"\"}},\"ternary\":{\"bgcolor\":\"#E5ECF6\",\"aaxis\":{\"gridcolor\":\"white\",\"linecolor\":\"white\",\"ticks\":\"\"},\"baxis\":{\"gridcolor\":\"white\",\"linecolor\":\"white\",\"ticks\":\"\"},\"caxis\":{\"gridcolor\":\"white\",\"linecolor\":\"white\",\"ticks\":\"\"}},\"coloraxis\":{\"colorbar\":{\"outlinewidth\":0,\"ticks\":\"\"}},\"colorscale\":{\"sequential\":[[0.0,\"#0d0887\"],[0.1111111111111111,\"#46039f\"],[0.2222222222222222,\"#7201a8\"],[0.3333333333333333,\"#9c179e\"],[0.4444444444444444,\"#bd3786\"],[0.5555555555555556,\"#d8576b\"],[0.6666666666666666,\"#ed7953\"],[0.7777777777777778,\"#fb9f3a\"],[0.8888888888888888,\"#fdca26\"],[1.0,\"#f0f921\"]],\"sequentialminus\":[[0.0,\"#0d0887\"],[0.1111111111111111,\"#46039f\"],[0.2222222222222222,\"#7201a8\"],[0.3333333333333333,\"#9c179e\"],[0.4444444444444444,\"#bd3786\"],[0.5555555555555556,\"#d8576b\"],[0.6666666666666666,\"#ed7953\"],[0.7777777777777778,\"#fb9f3a\"],[0.8888888888888888,\"#fdca26\"],[1.0,\"#f0f921\"]],\"diverging\":[[0,\"#8e0152\"],[0.1,\"#c51b7d\"],[0.2,\"#de77ae\"],[0.3,\"#f1b6da\"],[0.4,\"#fde0ef\"],[0.5,\"#f7f7f7\"],[0.6,\"#e6f5d0\"],[0.7,\"#b8e186\"],[0.8,\"#7fbc41\"],[0.9,\"#4d9221\"],[1,\"#276419\"]]},\"xaxis\":{\"gridcolor\":\"white\",\"linecolor\":\"white\",\"ticks\":\"\",\"title\":{\"standoff\":15},\"zerolinecolor\":\"white\",\"automargin\":true,\"zerolinewidth\":2},\"yaxis\":{\"gridcolor\":\"white\",\"linecolor\":\"white\",\"ticks\":\"\",\"title\":{\"standoff\":15},\"zerolinecolor\":\"white\",\"automargin\":true,\"zerolinewidth\":2},\"scene\":{\"xaxis\":{\"backgroundcolor\":\"#E5ECF6\",\"gridcolor\":\"white\",\"linecolor\":\"white\",\"showbackground\":true,\"ticks\":\"\",\"zerolinecolor\":\"white\",\"gridwidth\":2},\"yaxis\":{\"backgroundcolor\":\"#E5ECF6\",\"gridcolor\":\"white\",\"linecolor\":\"white\",\"showbackground\":true,\"ticks\":\"\",\"zerolinecolor\":\"white\",\"gridwidth\":2},\"zaxis\":{\"backgroundcolor\":\"#E5ECF6\",\"gridcolor\":\"white\",\"linecolor\":\"white\",\"showbackground\":true,\"ticks\":\"\",\"zerolinecolor\":\"white\",\"gridwidth\":2}},\"shapedefaults\":{\"line\":{\"color\":\"#2a3f5f\"}},\"annotationdefaults\":{\"arrowcolor\":\"#2a3f5f\",\"arrowhead\":0,\"arrowwidth\":1},\"geo\":{\"bgcolor\":\"white\",\"landcolor\":\"#E5ECF6\",\"subunitcolor\":\"white\",\"showland\":true,\"showlakes\":true,\"lakecolor\":\"white\"},\"title\":{\"x\":0.05},\"mapbox\":{\"style\":\"light\"}}},\"margin\":{\"l\":65,\"r\":50,\"b\":65,\"t\":90},\"title\":{\"text\":\"Hyperparameter Tuning Contour Plot\",\"font\":{\"size\":20,\"color\":\"#AFDBF5\"}},\"autosize\":false,\"width\":500,\"height\":400},                        {\"responsive\": true}                    ).then(function(){\n",
       "                            \n",
       "var gd = document.getElementById('e6e69790-e2dc-4072-960b-4907f7f67b7a');\n",
       "var x = new MutationObserver(function (mutations, observer) {{\n",
       "        var display = window.getComputedStyle(gd).display;\n",
       "        if (!display || display === 'none') {{\n",
       "            console.log([gd, 'removed!']);\n",
       "            Plotly.purge(gd);\n",
       "            observer.disconnect();\n",
       "        }}\n",
       "}});\n",
       "\n",
       "// Listen for the removal of the full notebook cells\n",
       "var notebookContainer = gd.closest('#notebook-container');\n",
       "if (notebookContainer) {{\n",
       "    x.observe(notebookContainer, {childList: true});\n",
       "}}\n",
       "\n",
       "// Listen for the clearing of the current output cell\n",
       "var outputEl = gd.closest('.output');\n",
       "if (outputEl) {{\n",
       "    x.observe(outputEl, {childList: true});\n",
       "}}\n",
       "\n",
       "                        })                };                });            </script>        </div>"
      ]
     },
     "metadata": {},
     "output_type": "display_data"
    }
   ],
   "source": [
    "fig = go.Figure(data=[go.Contour(z=z, x=x, y=y, colorscale=polynesian_blue_colorscale)], layout=layout)\n",
    "fig.update_layout(title='Hyperparameter Tuning Contour Plot', autosize=False, width=500, height=400, margin=dict(l=65, r=50, b=65, t=90),\n",
    "                  title_font=dict(size=20, color='#AFDBF5'))\n",
    "fig.show()\n"
   ]
  },
  {
   "cell_type": "code",
   "execution_count": 48,
   "metadata": {
    "id": "b_ypUjAyo959"
   },
   "outputs": [
    {
     "data": {
      "application/vnd.plotly.v1+json": {
       "config": {
        "plotlyServerURL": "https://plot.ly"
       },
       "data": [
        {
         "colorscale": [
          [
           0,
           "#002D72"
          ],
          [
           0.5,
           "#4169E1"
          ],
          [
           1,
           "#AFDBF5"
          ]
         ],
         "type": "surface",
         "x": [
          10,
          20,
          30,
          40,
          50,
          60,
          70,
          80,
          90,
          100,
          110,
          120,
          130,
          140,
          150,
          160,
          170,
          180,
          190,
          200
         ],
         "y": [
          1,
          2,
          3,
          4,
          5
         ],
         "z": [
          [
           0.9579523607833644,
           0.9585874427704161,
           0.9585873620943506,
           0.9585875234464816,
           0.9588416530525807,
           0.9588415723765152,
           0.9587144268974003,
           0.9588414917004497,
           0.9587145075734655,
           0.9590954599544179,
           0.9590954599544179,
           0.9589684758274337,
           0.9588414110243842,
           0.9589684758274337,
           0.9587144268974003,
           0.9587144268974003,
           0.9587144268974003,
           0.9587144268974003,
           0.9587145075734658,
           0.9587145075734658
          ],
          [
           0.9579521994312337,
           0.9587144268974003,
           0.9589685565034992,
           0.9590956213065487,
           0.9592226861095984,
           0.9590957019826142,
           0.9590957019826142,
           0.9590957019826142,
           0.9590957019826142,
           0.9593496702365825,
           0.9592226861095984,
           0.9590957019826142,
           0.9590957019826142,
           0.9589687178556302,
           0.9589687178556302,
           0.9589687178556302,
           0.9589687178556302,
           0.9589687178556302,
           0.9587146689255965,
           0.958714588249531
          ],
          [
           0.9583333938403824,
           0.9585875234464816,
           0.9589687178556302,
           0.9588417337286461,
           0.9587146689255965,
           0.9590955406304834,
           0.9587145075734655,
           0.9588416530525807,
           0.9590956213065489,
           0.9589686371795647,
           0.9589686371795647,
           0.9592227667856639,
           0.9590957826586797,
           0.9589687178556302,
           0.9593496702365826,
           0.9592226861095984,
           0.9590957019826144,
           0.9592226861095984,
           0.9589687178556302,
           0.9589686371795647
          ],
          [
           0.9583331518121861,
           0.9588414110243842,
           0.9588414917004497,
           0.9589684758274337,
           0.9588414110243842,
           0.9587144268974,
           0.9587144268974,
           0.9589685565034994,
           0.9585874427704161,
           0.958841572376515,
           0.9588414917004497,
           0.9587145075734655,
           0.958841572376515,
           0.9590956213065489,
           0.9588415723765152,
           0.9588415723765152,
           0.9589686371795647,
           0.9588415723765152,
           0.958714588249531,
           0.958714588249531
          ],
          [
           0.9570628264859522,
           0.9585874427704161,
           0.9583333938403825,
           0.9585874427704161,
           0.9584603779673664,
           0.9587144268974003,
           0.9587143462213348,
           0.9589684758274339,
           0.9585875234464816,
           0.9587145075734655,
           0.9589685565034994,
           0.9589684758274339,
           0.9588414110243842,
           0.9590954599544179,
           0.9588414917004497,
           0.9585875234464816,
           0.9587145075734655,
           0.9588414917004497,
           0.9585874427704161,
           0.9587145075734655
          ]
         ]
        }
       ],
       "layout": {
        "autosize": false,
        "font": {
         "color": "white"
        },
        "height": 500,
        "margin": {
         "b": 65,
         "l": 65,
         "r": 50,
         "t": 90
        },
        "paper_bgcolor": "#000000",
        "plot_bgcolor": "#000000",
        "scene": {
         "aspectmode": "auto",
         "aspectratio": {
          "x": 1,
          "y": 1,
          "z": 1
         },
         "xaxis": {
          "title": {
           "text": "n_estimators"
          },
          "type": "linear"
         },
         "yaxis": {
          "title": {
           "text": "max_features"
          },
          "type": "linear"
         },
         "zaxis": {
          "title": {
           "text": "Accuracy"
          },
          "type": "linear"
         }
        },
        "template": {
         "data": {
          "bar": [
           {
            "error_x": {
             "color": "#2a3f5f"
            },
            "error_y": {
             "color": "#2a3f5f"
            },
            "marker": {
             "line": {
              "color": "#E5ECF6",
              "width": 0.5
             },
             "pattern": {
              "fillmode": "overlay",
              "size": 10,
              "solidity": 0.2
             }
            },
            "type": "bar"
           }
          ],
          "barpolar": [
           {
            "marker": {
             "line": {
              "color": "#E5ECF6",
              "width": 0.5
             },
             "pattern": {
              "fillmode": "overlay",
              "size": 10,
              "solidity": 0.2
             }
            },
            "type": "barpolar"
           }
          ],
          "carpet": [
           {
            "aaxis": {
             "endlinecolor": "#2a3f5f",
             "gridcolor": "white",
             "linecolor": "white",
             "minorgridcolor": "white",
             "startlinecolor": "#2a3f5f"
            },
            "baxis": {
             "endlinecolor": "#2a3f5f",
             "gridcolor": "white",
             "linecolor": "white",
             "minorgridcolor": "white",
             "startlinecolor": "#2a3f5f"
            },
            "type": "carpet"
           }
          ],
          "choropleth": [
           {
            "colorbar": {
             "outlinewidth": 0,
             "ticks": ""
            },
            "type": "choropleth"
           }
          ],
          "contour": [
           {
            "colorbar": {
             "outlinewidth": 0,
             "ticks": ""
            },
            "colorscale": [
             [
              0,
              "#0d0887"
             ],
             [
              0.1111111111111111,
              "#46039f"
             ],
             [
              0.2222222222222222,
              "#7201a8"
             ],
             [
              0.3333333333333333,
              "#9c179e"
             ],
             [
              0.4444444444444444,
              "#bd3786"
             ],
             [
              0.5555555555555556,
              "#d8576b"
             ],
             [
              0.6666666666666666,
              "#ed7953"
             ],
             [
              0.7777777777777778,
              "#fb9f3a"
             ],
             [
              0.8888888888888888,
              "#fdca26"
             ],
             [
              1,
              "#f0f921"
             ]
            ],
            "type": "contour"
           }
          ],
          "contourcarpet": [
           {
            "colorbar": {
             "outlinewidth": 0,
             "ticks": ""
            },
            "type": "contourcarpet"
           }
          ],
          "heatmap": [
           {
            "colorbar": {
             "outlinewidth": 0,
             "ticks": ""
            },
            "colorscale": [
             [
              0,
              "#0d0887"
             ],
             [
              0.1111111111111111,
              "#46039f"
             ],
             [
              0.2222222222222222,
              "#7201a8"
             ],
             [
              0.3333333333333333,
              "#9c179e"
             ],
             [
              0.4444444444444444,
              "#bd3786"
             ],
             [
              0.5555555555555556,
              "#d8576b"
             ],
             [
              0.6666666666666666,
              "#ed7953"
             ],
             [
              0.7777777777777778,
              "#fb9f3a"
             ],
             [
              0.8888888888888888,
              "#fdca26"
             ],
             [
              1,
              "#f0f921"
             ]
            ],
            "type": "heatmap"
           }
          ],
          "heatmapgl": [
           {
            "colorbar": {
             "outlinewidth": 0,
             "ticks": ""
            },
            "colorscale": [
             [
              0,
              "#0d0887"
             ],
             [
              0.1111111111111111,
              "#46039f"
             ],
             [
              0.2222222222222222,
              "#7201a8"
             ],
             [
              0.3333333333333333,
              "#9c179e"
             ],
             [
              0.4444444444444444,
              "#bd3786"
             ],
             [
              0.5555555555555556,
              "#d8576b"
             ],
             [
              0.6666666666666666,
              "#ed7953"
             ],
             [
              0.7777777777777778,
              "#fb9f3a"
             ],
             [
              0.8888888888888888,
              "#fdca26"
             ],
             [
              1,
              "#f0f921"
             ]
            ],
            "type": "heatmapgl"
           }
          ],
          "histogram": [
           {
            "marker": {
             "pattern": {
              "fillmode": "overlay",
              "size": 10,
              "solidity": 0.2
             }
            },
            "type": "histogram"
           }
          ],
          "histogram2d": [
           {
            "colorbar": {
             "outlinewidth": 0,
             "ticks": ""
            },
            "colorscale": [
             [
              0,
              "#0d0887"
             ],
             [
              0.1111111111111111,
              "#46039f"
             ],
             [
              0.2222222222222222,
              "#7201a8"
             ],
             [
              0.3333333333333333,
              "#9c179e"
             ],
             [
              0.4444444444444444,
              "#bd3786"
             ],
             [
              0.5555555555555556,
              "#d8576b"
             ],
             [
              0.6666666666666666,
              "#ed7953"
             ],
             [
              0.7777777777777778,
              "#fb9f3a"
             ],
             [
              0.8888888888888888,
              "#fdca26"
             ],
             [
              1,
              "#f0f921"
             ]
            ],
            "type": "histogram2d"
           }
          ],
          "histogram2dcontour": [
           {
            "colorbar": {
             "outlinewidth": 0,
             "ticks": ""
            },
            "colorscale": [
             [
              0,
              "#0d0887"
             ],
             [
              0.1111111111111111,
              "#46039f"
             ],
             [
              0.2222222222222222,
              "#7201a8"
             ],
             [
              0.3333333333333333,
              "#9c179e"
             ],
             [
              0.4444444444444444,
              "#bd3786"
             ],
             [
              0.5555555555555556,
              "#d8576b"
             ],
             [
              0.6666666666666666,
              "#ed7953"
             ],
             [
              0.7777777777777778,
              "#fb9f3a"
             ],
             [
              0.8888888888888888,
              "#fdca26"
             ],
             [
              1,
              "#f0f921"
             ]
            ],
            "type": "histogram2dcontour"
           }
          ],
          "mesh3d": [
           {
            "colorbar": {
             "outlinewidth": 0,
             "ticks": ""
            },
            "type": "mesh3d"
           }
          ],
          "parcoords": [
           {
            "line": {
             "colorbar": {
              "outlinewidth": 0,
              "ticks": ""
             }
            },
            "type": "parcoords"
           }
          ],
          "pie": [
           {
            "automargin": true,
            "type": "pie"
           }
          ],
          "scatter": [
           {
            "fillpattern": {
             "fillmode": "overlay",
             "size": 10,
             "solidity": 0.2
            },
            "type": "scatter"
           }
          ],
          "scatter3d": [
           {
            "line": {
             "colorbar": {
              "outlinewidth": 0,
              "ticks": ""
             }
            },
            "marker": {
             "colorbar": {
              "outlinewidth": 0,
              "ticks": ""
             }
            },
            "type": "scatter3d"
           }
          ],
          "scattercarpet": [
           {
            "marker": {
             "colorbar": {
              "outlinewidth": 0,
              "ticks": ""
             }
            },
            "type": "scattercarpet"
           }
          ],
          "scattergeo": [
           {
            "marker": {
             "colorbar": {
              "outlinewidth": 0,
              "ticks": ""
             }
            },
            "type": "scattergeo"
           }
          ],
          "scattergl": [
           {
            "marker": {
             "colorbar": {
              "outlinewidth": 0,
              "ticks": ""
             }
            },
            "type": "scattergl"
           }
          ],
          "scattermapbox": [
           {
            "marker": {
             "colorbar": {
              "outlinewidth": 0,
              "ticks": ""
             }
            },
            "type": "scattermapbox"
           }
          ],
          "scatterpolar": [
           {
            "marker": {
             "colorbar": {
              "outlinewidth": 0,
              "ticks": ""
             }
            },
            "type": "scatterpolar"
           }
          ],
          "scatterpolargl": [
           {
            "marker": {
             "colorbar": {
              "outlinewidth": 0,
              "ticks": ""
             }
            },
            "type": "scatterpolargl"
           }
          ],
          "scatterternary": [
           {
            "marker": {
             "colorbar": {
              "outlinewidth": 0,
              "ticks": ""
             }
            },
            "type": "scatterternary"
           }
          ],
          "surface": [
           {
            "colorbar": {
             "outlinewidth": 0,
             "ticks": ""
            },
            "colorscale": [
             [
              0,
              "#0d0887"
             ],
             [
              0.1111111111111111,
              "#46039f"
             ],
             [
              0.2222222222222222,
              "#7201a8"
             ],
             [
              0.3333333333333333,
              "#9c179e"
             ],
             [
              0.4444444444444444,
              "#bd3786"
             ],
             [
              0.5555555555555556,
              "#d8576b"
             ],
             [
              0.6666666666666666,
              "#ed7953"
             ],
             [
              0.7777777777777778,
              "#fb9f3a"
             ],
             [
              0.8888888888888888,
              "#fdca26"
             ],
             [
              1,
              "#f0f921"
             ]
            ],
            "type": "surface"
           }
          ],
          "table": [
           {
            "cells": {
             "fill": {
              "color": "#EBF0F8"
             },
             "line": {
              "color": "white"
             }
            },
            "header": {
             "fill": {
              "color": "#C8D4E3"
             },
             "line": {
              "color": "white"
             }
            },
            "type": "table"
           }
          ]
         },
         "layout": {
          "annotationdefaults": {
           "arrowcolor": "#2a3f5f",
           "arrowhead": 0,
           "arrowwidth": 1
          },
          "autotypenumbers": "strict",
          "coloraxis": {
           "colorbar": {
            "outlinewidth": 0,
            "ticks": ""
           }
          },
          "colorscale": {
           "diverging": [
            [
             0,
             "#8e0152"
            ],
            [
             0.1,
             "#c51b7d"
            ],
            [
             0.2,
             "#de77ae"
            ],
            [
             0.3,
             "#f1b6da"
            ],
            [
             0.4,
             "#fde0ef"
            ],
            [
             0.5,
             "#f7f7f7"
            ],
            [
             0.6,
             "#e6f5d0"
            ],
            [
             0.7,
             "#b8e186"
            ],
            [
             0.8,
             "#7fbc41"
            ],
            [
             0.9,
             "#4d9221"
            ],
            [
             1,
             "#276419"
            ]
           ],
           "sequential": [
            [
             0,
             "#0d0887"
            ],
            [
             0.1111111111111111,
             "#46039f"
            ],
            [
             0.2222222222222222,
             "#7201a8"
            ],
            [
             0.3333333333333333,
             "#9c179e"
            ],
            [
             0.4444444444444444,
             "#bd3786"
            ],
            [
             0.5555555555555556,
             "#d8576b"
            ],
            [
             0.6666666666666666,
             "#ed7953"
            ],
            [
             0.7777777777777778,
             "#fb9f3a"
            ],
            [
             0.8888888888888888,
             "#fdca26"
            ],
            [
             1,
             "#f0f921"
            ]
           ],
           "sequentialminus": [
            [
             0,
             "#0d0887"
            ],
            [
             0.1111111111111111,
             "#46039f"
            ],
            [
             0.2222222222222222,
             "#7201a8"
            ],
            [
             0.3333333333333333,
             "#9c179e"
            ],
            [
             0.4444444444444444,
             "#bd3786"
            ],
            [
             0.5555555555555556,
             "#d8576b"
            ],
            [
             0.6666666666666666,
             "#ed7953"
            ],
            [
             0.7777777777777778,
             "#fb9f3a"
            ],
            [
             0.8888888888888888,
             "#fdca26"
            ],
            [
             1,
             "#f0f921"
            ]
           ]
          },
          "colorway": [
           "#636efa",
           "#EF553B",
           "#00cc96",
           "#ab63fa",
           "#FFA15A",
           "#19d3f3",
           "#FF6692",
           "#B6E880",
           "#FF97FF",
           "#FECB52"
          ],
          "font": {
           "color": "#2a3f5f"
          },
          "geo": {
           "bgcolor": "white",
           "lakecolor": "white",
           "landcolor": "#E5ECF6",
           "showlakes": true,
           "showland": true,
           "subunitcolor": "white"
          },
          "hoverlabel": {
           "align": "left"
          },
          "hovermode": "closest",
          "mapbox": {
           "style": "light"
          },
          "paper_bgcolor": "white",
          "plot_bgcolor": "#E5ECF6",
          "polar": {
           "angularaxis": {
            "gridcolor": "white",
            "linecolor": "white",
            "ticks": ""
           },
           "bgcolor": "#E5ECF6",
           "radialaxis": {
            "gridcolor": "white",
            "linecolor": "white",
            "ticks": ""
           }
          },
          "scene": {
           "xaxis": {
            "backgroundcolor": "#E5ECF6",
            "gridcolor": "white",
            "gridwidth": 2,
            "linecolor": "white",
            "showbackground": true,
            "ticks": "",
            "zerolinecolor": "white"
           },
           "yaxis": {
            "backgroundcolor": "#E5ECF6",
            "gridcolor": "white",
            "gridwidth": 2,
            "linecolor": "white",
            "showbackground": true,
            "ticks": "",
            "zerolinecolor": "white"
           },
           "zaxis": {
            "backgroundcolor": "#E5ECF6",
            "gridcolor": "white",
            "gridwidth": 2,
            "linecolor": "white",
            "showbackground": true,
            "ticks": "",
            "zerolinecolor": "white"
           }
          },
          "shapedefaults": {
           "line": {
            "color": "#2a3f5f"
           }
          },
          "ternary": {
           "aaxis": {
            "gridcolor": "white",
            "linecolor": "white",
            "ticks": ""
           },
           "baxis": {
            "gridcolor": "white",
            "linecolor": "white",
            "ticks": ""
           },
           "bgcolor": "#E5ECF6",
           "caxis": {
            "gridcolor": "white",
            "linecolor": "white",
            "ticks": ""
           }
          },
          "title": {
           "x": 0.05
          },
          "xaxis": {
           "automargin": true,
           "gridcolor": "white",
           "linecolor": "white",
           "ticks": "",
           "title": {
            "standoff": 15
           },
           "zerolinecolor": "white",
           "zerolinewidth": 2
          },
          "yaxis": {
           "automargin": true,
           "gridcolor": "white",
           "linecolor": "white",
           "ticks": "",
           "title": {
            "standoff": 15
           },
           "zerolinecolor": "white",
           "zerolinewidth": 2
          }
         }
        },
        "title": {
         "font": {
          "color": "#AFDBF5",
          "size": 20
         },
         "text": "Hyperparameter Tuning Surface Plot"
        },
        "width": 600,
        "xaxis": {
         "tickfont": {
          "color": "white",
          "size": 12
         },
         "title": {
          "font": {
           "color": "white",
           "size": 14
          },
          "text": "n_estimators"
         }
        },
        "yaxis": {
         "tickfont": {
          "color": "white",
          "size": 12
         },
         "title": {
          "font": {
           "color": "white",
           "size": 14
          },
          "text": "max_features"
         }
        }
       }
      },
      "image/png": "[encoded data removed]",
      "text/html": [
       "<div>                            <div id=\"75564bf8-b000-4ff0-8719-2ec57b21a66f\" class=\"plotly-graph-div\" style=\"height:500px; width:600px;\"></div>            <script type=\"text/javascript\">                require([\"plotly\"], function(Plotly) {                    window.PLOTLYENV=window.PLOTLYENV || {};                                    if (document.getElementById(\"75564bf8-b000-4ff0-8719-2ec57b21a66f\")) {                    Plotly.newPlot(                        \"75564bf8-b000-4ff0-8719-2ec57b21a66f\",                        [{\"colorscale\":[[0,\"#002D72\"],[0.5,\"#4169E1\"],[1,\"#AFDBF5\"]],\"x\":[10,20,30,40,50,60,70,80,90,100,110,120,130,140,150,160,170,180,190,200],\"y\":[1,2,3,4,5],\"z\":[[0.9579523607833644,0.9585874427704161,0.9585873620943506,0.9585875234464816,0.9588416530525807,0.9588415723765152,0.9587144268974003,0.9588414917004497,0.9587145075734655,0.9590954599544179,0.9590954599544179,0.9589684758274337,0.9588414110243842,0.9589684758274337,0.9587144268974003,0.9587144268974003,0.9587144268974003,0.9587144268974003,0.9587145075734658,0.9587145075734658],[0.9579521994312337,0.9587144268974003,0.9589685565034992,0.9590956213065487,0.9592226861095984,0.9590957019826142,0.9590957019826142,0.9590957019826142,0.9590957019826142,0.9593496702365825,0.9592226861095984,0.9590957019826142,0.9590957019826142,0.9589687178556302,0.9589687178556302,0.9589687178556302,0.9589687178556302,0.9589687178556302,0.9587146689255965,0.958714588249531],[0.9583333938403824,0.9585875234464816,0.9589687178556302,0.9588417337286461,0.9587146689255965,0.9590955406304834,0.9587145075734655,0.9588416530525807,0.9590956213065489,0.9589686371795647,0.9589686371795647,0.9592227667856639,0.9590957826586797,0.9589687178556302,0.9593496702365826,0.9592226861095984,0.9590957019826144,0.9592226861095984,0.9589687178556302,0.9589686371795647],[0.9583331518121861,0.9588414110243842,0.9588414917004497,0.9589684758274337,0.9588414110243842,0.9587144268974,0.9587144268974,0.9589685565034994,0.9585874427704161,0.958841572376515,0.9588414917004497,0.9587145075734655,0.958841572376515,0.9590956213065489,0.9588415723765152,0.9588415723765152,0.9589686371795647,0.9588415723765152,0.958714588249531,0.958714588249531],[0.9570628264859522,0.9585874427704161,0.9583333938403825,0.9585874427704161,0.9584603779673664,0.9587144268974003,0.9587143462213348,0.9589684758274339,0.9585875234464816,0.9587145075734655,0.9589685565034994,0.9589684758274339,0.9588414110243842,0.9590954599544179,0.9588414917004497,0.9585875234464816,0.9587145075734655,0.9588414917004497,0.9585874427704161,0.9587145075734655]],\"type\":\"surface\"}],                        {\"font\":{\"color\":\"white\"},\"paper_bgcolor\":\"#000000\",\"plot_bgcolor\":\"#000000\",\"xaxis\":{\"tickfont\":{\"color\":\"white\",\"size\":12},\"title\":{\"font\":{\"color\":\"white\",\"size\":14},\"text\":\"n_estimators\"}},\"yaxis\":{\"tickfont\":{\"color\":\"white\",\"size\":12},\"title\":{\"font\":{\"color\":\"white\",\"size\":14},\"text\":\"max_features\"}},\"template\":{\"data\":{\"histogram2dcontour\":[{\"type\":\"histogram2dcontour\",\"colorbar\":{\"outlinewidth\":0,\"ticks\":\"\"},\"colorscale\":[[0.0,\"#0d0887\"],[0.1111111111111111,\"#46039f\"],[0.2222222222222222,\"#7201a8\"],[0.3333333333333333,\"#9c179e\"],[0.4444444444444444,\"#bd3786\"],[0.5555555555555556,\"#d8576b\"],[0.6666666666666666,\"#ed7953\"],[0.7777777777777778,\"#fb9f3a\"],[0.8888888888888888,\"#fdca26\"],[1.0,\"#f0f921\"]]}],\"choropleth\":[{\"type\":\"choropleth\",\"colorbar\":{\"outlinewidth\":0,\"ticks\":\"\"}}],\"histogram2d\":[{\"type\":\"histogram2d\",\"colorbar\":{\"outlinewidth\":0,\"ticks\":\"\"},\"colorscale\":[[0.0,\"#0d0887\"],[0.1111111111111111,\"#46039f\"],[0.2222222222222222,\"#7201a8\"],[0.3333333333333333,\"#9c179e\"],[0.4444444444444444,\"#bd3786\"],[0.5555555555555556,\"#d8576b\"],[0.6666666666666666,\"#ed7953\"],[0.7777777777777778,\"#fb9f3a\"],[0.8888888888888888,\"#fdca26\"],[1.0,\"#f0f921\"]]}],\"heatmap\":[{\"type\":\"heatmap\",\"colorbar\":{\"outlinewidth\":0,\"ticks\":\"\"},\"colorscale\":[[0.0,\"#0d0887\"],[0.1111111111111111,\"#46039f\"],[0.2222222222222222,\"#7201a8\"],[0.3333333333333333,\"#9c179e\"],[0.4444444444444444,\"#bd3786\"],[0.5555555555555556,\"#d8576b\"],[0.6666666666666666,\"#ed7953\"],[0.7777777777777778,\"#fb9f3a\"],[0.8888888888888888,\"#fdca26\"],[1.0,\"#f0f921\"]]}],\"heatmapgl\":[{\"type\":\"heatmapgl\",\"colorbar\":{\"outlinewidth\":0,\"ticks\":\"\"},\"colorscale\":[[0.0,\"#0d0887\"],[0.1111111111111111,\"#46039f\"],[0.2222222222222222,\"#7201a8\"],[0.3333333333333333,\"#9c179e\"],[0.4444444444444444,\"#bd3786\"],[0.5555555555555556,\"#d8576b\"],[0.6666666666666666,\"#ed7953\"],[0.7777777777777778,\"#fb9f3a\"],[0.8888888888888888,\"#fdca26\"],[1.0,\"#f0f921\"]]}],\"contourcarpet\":[{\"type\":\"contourcarpet\",\"colorbar\":{\"outlinewidth\":0,\"ticks\":\"\"}}],\"contour\":[{\"type\":\"contour\",\"colorbar\":{\"outlinewidth\":0,\"ticks\":\"\"},\"colorscale\":[[0.0,\"#0d0887\"],[0.1111111111111111,\"#46039f\"],[0.2222222222222222,\"#7201a8\"],[0.3333333333333333,\"#9c179e\"],[0.4444444444444444,\"#bd3786\"],[0.5555555555555556,\"#d8576b\"],[0.6666666666666666,\"#ed7953\"],[0.7777777777777778,\"#fb9f3a\"],[0.8888888888888888,\"#fdca26\"],[1.0,\"#f0f921\"]]}],\"surface\":[{\"type\":\"surface\",\"colorbar\":{\"outlinewidth\":0,\"ticks\":\"\"},\"colorscale\":[[0.0,\"#0d0887\"],[0.1111111111111111,\"#46039f\"],[0.2222222222222222,\"#7201a8\"],[0.3333333333333333,\"#9c179e\"],[0.4444444444444444,\"#bd3786\"],[0.5555555555555556,\"#d8576b\"],[0.6666666666666666,\"#ed7953\"],[0.7777777777777778,\"#fb9f3a\"],[0.8888888888888888,\"#fdca26\"],[1.0,\"#f0f921\"]]}],\"mesh3d\":[{\"type\":\"mesh3d\",\"colorbar\":{\"outlinewidth\":0,\"ticks\":\"\"}}],\"scatter\":[{\"fillpattern\":{\"fillmode\":\"overlay\",\"size\":10,\"solidity\":0.2},\"type\":\"scatter\"}],\"parcoords\":[{\"type\":\"parcoords\",\"line\":{\"colorbar\":{\"outlinewidth\":0,\"ticks\":\"\"}}}],\"scatterpolargl\":[{\"type\":\"scatterpolargl\",\"marker\":{\"colorbar\":{\"outlinewidth\":0,\"ticks\":\"\"}}}],\"bar\":[{\"error_x\":{\"color\":\"#2a3f5f\"},\"error_y\":{\"color\":\"#2a3f5f\"},\"marker\":{\"line\":{\"color\":\"#E5ECF6\",\"width\":0.5},\"pattern\":{\"fillmode\":\"overlay\",\"size\":10,\"solidity\":0.2}},\"type\":\"bar\"}],\"scattergeo\":[{\"type\":\"scattergeo\",\"marker\":{\"colorbar\":{\"outlinewidth\":0,\"ticks\":\"\"}}}],\"scatterpolar\":[{\"type\":\"scatterpolar\",\"marker\":{\"colorbar\":{\"outlinewidth\":0,\"ticks\":\"\"}}}],\"histogram\":[{\"marker\":{\"pattern\":{\"fillmode\":\"overlay\",\"size\":10,\"solidity\":0.2}},\"type\":\"histogram\"}],\"scattergl\":[{\"type\":\"scattergl\",\"marker\":{\"colorbar\":{\"outlinewidth\":0,\"ticks\":\"\"}}}],\"scatter3d\":[{\"type\":\"scatter3d\",\"line\":{\"colorbar\":{\"outlinewidth\":0,\"ticks\":\"\"}},\"marker\":{\"colorbar\":{\"outlinewidth\":0,\"ticks\":\"\"}}}],\"scattermapbox\":[{\"type\":\"scattermapbox\",\"marker\":{\"colorbar\":{\"outlinewidth\":0,\"ticks\":\"\"}}}],\"scatterternary\":[{\"type\":\"scatterternary\",\"marker\":{\"colorbar\":{\"outlinewidth\":0,\"ticks\":\"\"}}}],\"scattercarpet\":[{\"type\":\"scattercarpet\",\"marker\":{\"colorbar\":{\"outlinewidth\":0,\"ticks\":\"\"}}}],\"carpet\":[{\"aaxis\":{\"endlinecolor\":\"#2a3f5f\",\"gridcolor\":\"white\",\"linecolor\":\"white\",\"minorgridcolor\":\"white\",\"startlinecolor\":\"#2a3f5f\"},\"baxis\":{\"endlinecolor\":\"#2a3f5f\",\"gridcolor\":\"white\",\"linecolor\":\"white\",\"minorgridcolor\":\"white\",\"startlinecolor\":\"#2a3f5f\"},\"type\":\"carpet\"}],\"table\":[{\"cells\":{\"fill\":{\"color\":\"#EBF0F8\"},\"line\":{\"color\":\"white\"}},\"header\":{\"fill\":{\"color\":\"#C8D4E3\"},\"line\":{\"color\":\"white\"}},\"type\":\"table\"}],\"barpolar\":[{\"marker\":{\"line\":{\"color\":\"#E5ECF6\",\"width\":0.5},\"pattern\":{\"fillmode\":\"overlay\",\"size\":10,\"solidity\":0.2}},\"type\":\"barpolar\"}],\"pie\":[{\"automargin\":true,\"type\":\"pie\"}]},\"layout\":{\"autotypenumbers\":\"strict\",\"colorway\":[\"#636efa\",\"#EF553B\",\"#00cc96\",\"#ab63fa\",\"#FFA15A\",\"#19d3f3\",\"#FF6692\",\"#B6E880\",\"#FF97FF\",\"#FECB52\"],\"font\":{\"color\":\"#2a3f5f\"},\"hovermode\":\"closest\",\"hoverlabel\":{\"align\":\"left\"},\"paper_bgcolor\":\"white\",\"plot_bgcolor\":\"#E5ECF6\",\"polar\":{\"bgcolor\":\"#E5ECF6\",\"angularaxis\":{\"gridcolor\":\"white\",\"linecolor\":\"white\",\"ticks\":\"\"},\"radialaxis\":{\"gridcolor\":\"white\",\"linecolor\":\"white\",\"ticks\":\"\"}},\"ternary\":{\"bgcolor\":\"#E5ECF6\",\"aaxis\":{\"gridcolor\":\"white\",\"linecolor\":\"white\",\"ticks\":\"\"},\"baxis\":{\"gridcolor\":\"white\",\"linecolor\":\"white\",\"ticks\":\"\"},\"caxis\":{\"gridcolor\":\"white\",\"linecolor\":\"white\",\"ticks\":\"\"}},\"coloraxis\":{\"colorbar\":{\"outlinewidth\":0,\"ticks\":\"\"}},\"colorscale\":{\"sequential\":[[0.0,\"#0d0887\"],[0.1111111111111111,\"#46039f\"],[0.2222222222222222,\"#7201a8\"],[0.3333333333333333,\"#9c179e\"],[0.4444444444444444,\"#bd3786\"],[0.5555555555555556,\"#d8576b\"],[0.6666666666666666,\"#ed7953\"],[0.7777777777777778,\"#fb9f3a\"],[0.8888888888888888,\"#fdca26\"],[1.0,\"#f0f921\"]],\"sequentialminus\":[[0.0,\"#0d0887\"],[0.1111111111111111,\"#46039f\"],[0.2222222222222222,\"#7201a8\"],[0.3333333333333333,\"#9c179e\"],[0.4444444444444444,\"#bd3786\"],[0.5555555555555556,\"#d8576b\"],[0.6666666666666666,\"#ed7953\"],[0.7777777777777778,\"#fb9f3a\"],[0.8888888888888888,\"#fdca26\"],[1.0,\"#f0f921\"]],\"diverging\":[[0,\"#8e0152\"],[0.1,\"#c51b7d\"],[0.2,\"#de77ae\"],[0.3,\"#f1b6da\"],[0.4,\"#fde0ef\"],[0.5,\"#f7f7f7\"],[0.6,\"#e6f5d0\"],[0.7,\"#b8e186\"],[0.8,\"#7fbc41\"],[0.9,\"#4d9221\"],[1,\"#276419\"]]},\"xaxis\":{\"gridcolor\":\"white\",\"linecolor\":\"white\",\"ticks\":\"\",\"title\":{\"standoff\":15},\"zerolinecolor\":\"white\",\"automargin\":true,\"zerolinewidth\":2},\"yaxis\":{\"gridcolor\":\"white\",\"linecolor\":\"white\",\"ticks\":\"\",\"title\":{\"standoff\":15},\"zerolinecolor\":\"white\",\"automargin\":true,\"zerolinewidth\":2},\"scene\":{\"xaxis\":{\"backgroundcolor\":\"#E5ECF6\",\"gridcolor\":\"white\",\"linecolor\":\"white\",\"showbackground\":true,\"ticks\":\"\",\"zerolinecolor\":\"white\",\"gridwidth\":2},\"yaxis\":{\"backgroundcolor\":\"#E5ECF6\",\"gridcolor\":\"white\",\"linecolor\":\"white\",\"showbackground\":true,\"ticks\":\"\",\"zerolinecolor\":\"white\",\"gridwidth\":2},\"zaxis\":{\"backgroundcolor\":\"#E5ECF6\",\"gridcolor\":\"white\",\"linecolor\":\"white\",\"showbackground\":true,\"ticks\":\"\",\"zerolinecolor\":\"white\",\"gridwidth\":2}},\"shapedefaults\":{\"line\":{\"color\":\"#2a3f5f\"}},\"annotationdefaults\":{\"arrowcolor\":\"#2a3f5f\",\"arrowhead\":0,\"arrowwidth\":1},\"geo\":{\"bgcolor\":\"white\",\"landcolor\":\"#E5ECF6\",\"subunitcolor\":\"white\",\"showland\":true,\"showlakes\":true,\"lakecolor\":\"white\"},\"title\":{\"x\":0.05},\"mapbox\":{\"style\":\"light\"}}},\"margin\":{\"l\":65,\"r\":50,\"b\":65,\"t\":90},\"title\":{\"text\":\"Hyperparameter Tuning Surface Plot\",\"font\":{\"size\":20,\"color\":\"#AFDBF5\"}},\"scene\":{\"xaxis\":{\"title\":{\"text\":\"n_estimators\"}},\"yaxis\":{\"title\":{\"text\":\"max_features\"}},\"zaxis\":{\"title\":{\"text\":\"Accuracy\"}}},\"autosize\":false,\"width\":600,\"height\":500},                        {\"responsive\": true}                    ).then(function(){\n",
       "                            \n",
       "var gd = document.getElementById('75564bf8-b000-4ff0-8719-2ec57b21a66f');\n",
       "var x = new MutationObserver(function (mutations, observer) {{\n",
       "        var display = window.getComputedStyle(gd).display;\n",
       "        if (!display || display === 'none') {{\n",
       "            console.log([gd, 'removed!']);\n",
       "            Plotly.purge(gd);\n",
       "            observer.disconnect();\n",
       "        }}\n",
       "}});\n",
       "\n",
       "// Listen for the removal of the full notebook cells\n",
       "var notebookContainer = gd.closest('#notebook-container');\n",
       "if (notebookContainer) {{\n",
       "    x.observe(notebookContainer, {childList: true});\n",
       "}}\n",
       "\n",
       "// Listen for the clearing of the current output cell\n",
       "var outputEl = gd.closest('.output');\n",
       "if (outputEl) {{\n",
       "    x.observe(outputEl, {childList: true});\n",
       "}}\n",
       "\n",
       "                        })                };                });            </script>        </div>"
      ]
     },
     "metadata": {},
     "output_type": "display_data"
    }
   ],
   "source": [
    "fig = go.Figure(data=[go.Surface(z=z, y=y, x=x, colorscale=polynesian_blue_colorscale)], layout=layout)\n",
    "fig.update_layout(title='Hyperparameter Tuning Surface Plot', scene=dict(xaxis_title='n_estimators', yaxis_title='max_features', zaxis_title='Accuracy'),\n",
    "                  autosize=False, width=600, height=500, margin=dict(l=65, r=50, b=65, t=90), title_font=dict(size=20, color='#AFDBF5'))\n",
    "fig.show()"
   ]
  },
  {
   "cell_type": "code",
   "execution_count": null,
   "metadata": {},
   "outputs": [],
   "source": []
  }
 ],
 "metadata": {
  "colab": {
   "provenance": []
  },
  "kernelspec": {
   "display_name": "anaconda-panel-2023.05-py310",
   "language": "python",
   "name": "conda-env-anaconda-panel-2023.05-py310-py"
  },
  "language_info": {
   "codemirror_mode": {
    "name": "ipython",
    "version": 3
   },
   "file_extension": ".py",
   "mimetype": "text/x-python",
   "name": "python",
   "nbconvert_exporter": "python",
   "pygments_lexer": "ipython3",
   "version": "3.11.5"
  }
 },
 "nbformat": 4,
 "nbformat_minor": 4
}
